{
 "cells": [
  {
   "cell_type": "markdown",
   "metadata": {
    "colab_type": "text",
    "id": "_bdC-H0RxpOU"
   },
   "source": [
    "# Lista de exercícios sobre programação em Python"
   ]
  },
  {
   "cell_type": "markdown",
   "metadata": {
    "colab_type": "text",
    "id": "Ewi6c1nTxpOX"
   },
   "source": [
    "<br/>**Disciplina**: Introdução a redes neurais profundas 2018/1\n",
    "<br/>**Professor**: Jorge Leonid Aching Samatelo"
   ]
  },
  {
   "cell_type": "markdown",
   "metadata": {
    "colab_type": "text",
    "id": "adEtUH9RxpOY"
   },
   "source": [
    "**Aluno**: Humberto da Silva Neto"
   ]
  },
  {
   "cell_type": "markdown",
   "metadata": {
    "colab_type": "text",
    "id": "OFE_hF7gxpOa"
   },
   "source": [
    "## Tabela de conteúdos\n",
    "1. [Indicações](#indicacoes)\n",
    "1. [Exercícios sobre String](#ExerString)\n",
    "1. [Exercícios sobre Listas](#ExerListas)\n",
    "1. [Exercícios sobre Tuplas](#ExerTuplas)\n",
    "1. [Exercícios sobre Dicionarios](#ExerDicionarios)\n",
    "1. [Exercícios sobre Sentenças Condicionais e Repetição](#ExerCondRept)\n",
    "1. [Exercícios de Programação](#ExerProgramacao)"
   ]
  },
  {
   "cell_type": "markdown",
   "metadata": {
    "colab_type": "text",
    "id": "xWdSkyMOxpOb"
   },
   "source": [
    "## Indicações <a name=\"indicacoes\"></a>\n",
    "\n",
    "### Considerações\n",
    "* Cada aluno enviará por e-mail a solução dos exercícios propostos, tais soluções devem ser inseridas neste mesmo arquivo. \n",
    "* Para saber cómo trabalhar com arquivos `*.ipynb` é necessario ler os slides `003_JUPYTER_2x2.pdf`.\n",
    "\n",
    "### Prazo\n",
    "* Envio das soluções: Domingo 15/04/2018 - (11:59 pm) \n",
    "\n",
    "### Procedimento para o envio das soluções\n",
    "* O arquivo `*.ipynb` com as soluções dos exercícios deve ser enviado ao email <jlasam001@gmail.com> com o assunto: `LISTA_EXERCICIO_PYTHON_2018_1`. \n",
    "* O nome do arquivo `*.ipynb` deve iniciar com o rotulo `DL_LISTA_PYTHON` seguido pelas iniciais do nome do aluno que soluciono os exercícios (por exemplo, o aluno Pedro Farias enviara o arquivo `DL_LISTA_PYTHON_PF.ipynb`).\n",
    "\n",
    "### Dicas execução\n",
    "* Carregue todos os pacotes que serão necessários no início do arquivo.\n",
    "* Para executar comandos da shell dentro do notebook, utilize o prefixo `!` antes do comando de shell. (e.g. para listar os arquivos da pasta atual faça `! ls` para UNIX ou `! dir` para Windows."
   ]
  },
  {
   "cell_type": "markdown",
   "metadata": {
    "colab_type": "text",
    "id": "XbHoOUgmxpOb"
   },
   "source": [
    "## Exercícios sobre String <a name=\"ExerString\"></a>"
   ]
  },
  {
   "cell_type": "markdown",
   "metadata": {
    "colab_type": "text",
    "id": "FulGu7ANxpOd"
   },
   "source": [
    "### Exe. 1 \n",
    "Faça um programa que leia 2 strings e inprima o conteúdo delas seguido do seu comprimento. Informe também se as duas strings possuem o mesmo comprimento e são iguais ou diferentes no conteúdo. \n",
    "\n",
    "Exemplo:\n",
    "```\n",
    "Compara duas strings.\n",
    "String 1: 'Brasil Hexa 2006'\n",
    "String 2: 'Brasil! Hexa 2006!'\n",
    "Tamanho de 'Brasil Hexa 2006': 16 caracteres\n",
    "Tamanho de 'Brasil! Hexa 2006!': 18 caracteres\n",
    "As duas strings são de tamanhos diferentes.\n",
    "As duas strings possuem conteúdo diferente.\n",
    "```"
   ]
  },
  {
   "cell_type": "code",
   "execution_count": 1,
   "metadata": {
    "colab": {
     "autoexec": {
      "startup": false,
      "wait_interval": 0
     },
     "base_uri": "https://localhost:8080/",
     "height": 125
    },
    "colab_type": "code",
    "executionInfo": {
     "elapsed": 761,
     "status": "ok",
     "timestamp": 1523219393004,
     "user": {
      "displayName": "Humberto Neto",
      "photoUrl": "//lh4.googleusercontent.com/-srCUfXbZYXc/AAAAAAAAAAI/AAAAAAAAAAc/5xcjfJpRSRY/s50-c-k-no/photo.jpg",
      "userId": "107907802952684013889"
     },
     "user_tz": 180
    },
    "id": "wJgjI2LaxpOd",
    "outputId": "f3db16ce-37ad-4e2b-d4cf-256afcfe2c3a"
   },
   "outputs": [
    {
     "name": "stdout",
     "output_type": "stream",
     "text": [
      "String 1: Brasil Hexa 2018?\n",
      "String 2: Brasil! Hexa 2018!\n",
      "Tamaho de 'Brasil Hexa 2018?': 17\n",
      "Tamaho de 'Brasil! Hexa 2018!': 18\n",
      "As duas strings são de tamanhos diferentes.\n",
      "As duas strings possuem conteúdo diferente.\n"
     ]
    }
   ],
   "source": [
    "str_1 = 'Brasil Hexa 2018?'\n",
    "str_2 = 'Brasil! Hexa 2018!'\n",
    "\n",
    "print('String 1: {}\\nString 2: {}'.format(str_1, str_2))\n",
    "print('Tamaho de \\'{}\\': {}'.format(str_1, len(str_1)))\n",
    "print('Tamaho de \\'{}\\': {}'.format(str_2, len(str_2)))\n",
    "\n",
    "if (len(str_1) != len(str_2)):\n",
    "  print('As duas strings são de tamanhos diferentes.')\n",
    "  print('As duas strings possuem conteúdo diferente.')\n",
    "\n",
    "elif (str_1 != str_2):\n",
    "  print('As duas strings são de tamanhos iguais.')\n",
    "  print('As duas strings possuem conteúdo diferente.')\n",
    "  \n",
    "else:\n",
    "  print('As duas strings são de tamanhos iguais.')\n",
    "  print('As duas strings possuem conteúdo igual.')"
   ]
  },
  {
   "cell_type": "markdown",
   "metadata": {
    "colab_type": "text",
    "id": "97s_7Q0_xpOh"
   },
   "source": [
    "### Exe. 2\n",
    "\n",
    "Dado o texto: \n",
    "\n",
    "> *The Python Software Foundation and the global Python community welcome and encourage participation by everyone. Our community is based on mutual respect, tolerance, and encouragement, and we are working to help each other live up to these principles. We want our community to be more diverse: whoever you are, and whatever your backgrou and, we welcome you.*\n",
    "\n",
    "Calcule quantas palavras possuem uma das letras “python” e que tenham mais de 4 caracteres. Não esqueça de transformar maiúsculas para minúsculas e de remover antes os caracteres especiais."
   ]
  },
  {
   "cell_type": "code",
   "execution_count": 2,
   "metadata": {
    "colab": {
     "autoexec": {
      "startup": false,
      "wait_interval": 0
     },
     "base_uri": "https://localhost:8080/",
     "height": 35
    },
    "colab_type": "code",
    "executionInfo": {
     "elapsed": 641,
     "status": "ok",
     "timestamp": 1523219395431,
     "user": {
      "displayName": "Humberto Neto",
      "photoUrl": "//lh4.googleusercontent.com/-srCUfXbZYXc/AAAAAAAAAAI/AAAAAAAAAAc/5xcjfJpRSRY/s50-c-k-no/photo.jpg",
      "userId": "107907802952684013889"
     },
     "user_tz": 180
    },
    "id": "klTPpPb5xpOh",
    "outputId": "c1466fc8-08be-4b46-e812-bdb0a9912b5b"
   },
   "outputs": [
    {
     "name": "stdout",
     "output_type": "stream",
     "text": [
      "O número de palavras que possuem uma das letras 'python' e que tenham mais de 4 caracteres: 29\n"
     ]
    }
   ],
   "source": [
    "import re\n",
    "\n",
    "string = 'The  Python Software Foundation and the global Python community welcome and encourage participation by everyone. Our \\\n",
    "community is based on mutual respect, tolerance, and encouragement, and we are working to help each other live up to these \\\n",
    "principles. We want our community to be more diverse: whoever you are, and whatever your backgrou and, we welcome you.'.lower()\n",
    "\n",
    "lst = re.sub('r[^a-z]+', '', string).split()\n",
    "counter = 0\n",
    "\n",
    "for i in range(len(lst)):\n",
    "  if (len(lst[i]) < 4):\n",
    "    continue\n",
    "    \n",
    "  if (any(j in 'python' for j in lst[i])):\n",
    "    counter +=1\n",
    "\n",
    "print('O número de palavras que possuem uma das letras \\'python\\' e que tenham mais de 4 caracteres: {}'.format(counter))"
   ]
  },
  {
   "cell_type": "markdown",
   "metadata": {
    "colab_type": "text",
    "id": "aUwBTLf8xpOk"
   },
   "source": [
    "### Exe. 3\n",
    "Conta espaços e vogais. Dado uma string com uma frase informada pelo usuário (incluindo espaços em branco), conte:\n",
    "1. Quantos espaços em branco existem na frase.\n",
    "2. Quantas vezes aparecem as vogais a, e, i, o, u. "
   ]
  },
  {
   "cell_type": "code",
   "execution_count": 3,
   "metadata": {
    "colab": {
     "autoexec": {
      "startup": false,
      "wait_interval": 0
     },
     "base_uri": "https://localhost:8080/",
     "height": 35
    },
    "colab_type": "code",
    "executionInfo": {
     "elapsed": 2904,
     "status": "ok",
     "timestamp": 1523219400165,
     "user": {
      "displayName": "Humberto Neto",
      "photoUrl": "//lh4.googleusercontent.com/-srCUfXbZYXc/AAAAAAAAAAI/AAAAAAAAAAc/5xcjfJpRSRY/s50-c-k-no/photo.jpg",
      "userId": "107907802952684013889"
     },
     "user_tz": 180
    },
    "id": "NyMuZVXqsuAl",
    "outputId": "02b4dc5c-2c99-4e9b-a2a8-631794b66198"
   },
   "outputs": [
    {
     "name": "stdout",
     "output_type": "stream",
     "text": [
      "Requirement already satisfied: unidecode in /usr/local/lib/python3.6/dist-packages\r\n"
     ]
    }
   ],
   "source": [
    "!pip install unidecode"
   ]
  },
  {
   "cell_type": "code",
   "execution_count": 4,
   "metadata": {
    "colab": {
     "autoexec": {
      "startup": false,
      "wait_interval": 0
     },
     "base_uri": "https://localhost:8080/",
     "height": 53
    },
    "colab_type": "code",
    "executionInfo": {
     "elapsed": 5793,
     "status": "ok",
     "timestamp": 1523219408175,
     "user": {
      "displayName": "Humberto Neto",
      "photoUrl": "//lh4.googleusercontent.com/-srCUfXbZYXc/AAAAAAAAAAI/AAAAAAAAAAc/5xcjfJpRSRY/s50-c-k-no/photo.jpg",
      "userId": "107907802952684013889"
     },
     "user_tz": 180
    },
    "id": "IhRBTTEPsqwm",
    "outputId": "541fad8e-ba51-433d-88d8-b43b6236c1cf"
   },
   "outputs": [
    {
     "name": "stdout",
     "output_type": "stream",
     "text": [
      "Digite uma fraseThe  Python Software Foundation\n",
      "A string: 'the  python software foundation' possui 10 vogais e 4 espacos\n"
     ]
    }
   ],
   "source": [
    "import unidecode\n",
    "\n",
    "string = input(\"Digite uma frase\").lower() \n",
    "string = unidecode.unidecode(string)\n",
    "\n",
    "vowels = set('aeiou') \n",
    "c_vowels, c_space = 0, 0\n",
    "\n",
    "for i in string: \n",
    "  if i in vowels: \n",
    "    c_vowels += 1\n",
    "  \n",
    "  if i in ' ':\n",
    "    c_space +=1\n",
    "\n",
    "print('A string: \\'{}\\' possui {} vogais e {} espacos'.format(string, c_vowels, c_space))"
   ]
  },
  {
   "cell_type": "markdown",
   "metadata": {
    "colab_type": "text",
    "id": "aRRdRkn8xpOm"
   },
   "source": [
    "### Exe. 4\n",
    "Faça um programa que receba uma palavra e imprime cada letra dessa palavra separadamente. Para isso utilize a função `len` que informa o comprimento de uma string: len(palavra)"
   ]
  },
  {
   "cell_type": "code",
   "execution_count": 5,
   "metadata": {
    "colab": {
     "autoexec": {
      "startup": false,
      "wait_interval": 0
     },
     "base_uri": "https://localhost:8080/",
     "height": 593
    },
    "colab_type": "code",
    "executionInfo": {
     "elapsed": 2473,
     "status": "ok",
     "timestamp": 1523219412255,
     "user": {
      "displayName": "Humberto Neto",
      "photoUrl": "//lh4.googleusercontent.com/-srCUfXbZYXc/AAAAAAAAAAI/AAAAAAAAAAc/5xcjfJpRSRY/s50-c-k-no/photo.jpg",
      "userId": "107907802952684013889"
     },
     "user_tz": 180
    },
    "id": "oZLcVvy2xpOo",
    "outputId": "2b62391e-27f3-4c9c-9905-ef731bf4418e"
   },
   "outputs": [
    {
     "name": "stdout",
     "output_type": "stream",
     "text": [
      "Digite uma fraseThe  Python Software Foundation\n",
      "T\n",
      "h\n",
      "e\n",
      " \n",
      " \n",
      "P\n",
      "y\n",
      "t\n",
      "h\n",
      "o\n",
      "n\n",
      " \n",
      "S\n",
      "o\n",
      "f\n",
      "t\n",
      "w\n",
      "a\n",
      "r\n",
      "e\n",
      " \n",
      "F\n",
      "o\n",
      "u\n",
      "n\n",
      "d\n",
      "a\n",
      "t\n",
      "i\n",
      "o\n",
      "n\n"
     ]
    }
   ],
   "source": [
    "string = input(\"Digite uma frase\")\n",
    "\n",
    "for i in string:\n",
    "  print(i)\n",
    "  \n",
    "# for i in range(len(string)):\n",
    "#   print(string[i])"
   ]
  },
  {
   "cell_type": "markdown",
   "metadata": {
    "colab_type": "text",
    "id": "oRTEXv8yxpOs"
   },
   "source": [
    "### Exe. 5\n",
    "Escreva um programa que determine o valor da soma: a + aa + aaa + aaaa, onde, o valor de a é definido como um caráter. Por exemplo.\n",
    "Suponha que a = '9'. Então, a saída do programa deve ser: 11106 ( = 9+99+999+9999)"
   ]
  },
  {
   "cell_type": "code",
   "execution_count": 6,
   "metadata": {
    "colab": {
     "autoexec": {
      "startup": false,
      "wait_interval": 0
     },
     "base_uri": "https://localhost:8080/",
     "height": 71
    },
    "colab_type": "code",
    "executionInfo": {
     "elapsed": 2150,
     "status": "ok",
     "timestamp": 1523219416515,
     "user": {
      "displayName": "Humberto Neto",
      "photoUrl": "//lh4.googleusercontent.com/-srCUfXbZYXc/AAAAAAAAAAI/AAAAAAAAAAc/5xcjfJpRSRY/s50-c-k-no/photo.jpg",
      "userId": "107907802952684013889"
     },
     "user_tz": 180
    },
    "id": "Zpc0-8OxxpOt",
    "outputId": "4a1957bf-eea1-491b-fe1e-6ef35aabb438"
   },
   "outputs": [
    {
     "name": "stdout",
     "output_type": "stream",
     "text": [
      "Digite um caracter9\n",
      "char = '9'\n",
      "soma = 11106\n"
     ]
    }
   ],
   "source": [
    "a = input(\"Digite um caracter\")\n",
    "\n",
    "try:\n",
    "  soma = int(a) + int(a+a) + int(a+a+a) + int(a+a+a+a)\n",
    "  print('char = \\'{}\\'\\nsoma = {}'.format(a,soma))\n",
    "  \n",
    "except:\n",
    "  print('caracter invalido!')"
   ]
  },
  {
   "cell_type": "markdown",
   "metadata": {
    "colab_type": "text",
    "id": "LFAWl6CyxpOw"
   },
   "source": [
    "## Exercicios sobre Listas <a name=\"ExerListas\"></a>"
   ]
  },
  {
   "cell_type": "markdown",
   "metadata": {
    "colab_type": "text",
    "id": "9kH2OpR9xpOw"
   },
   "source": [
    "### Exe. 1\n",
    "Escreva uma função que combine duas listas tomando alternadamente seus elementos. Por exemplo: dadas as duas listas `[a, b, c]` e `[1, 2, 3]`, a função deve retornar `[a, 1, b, 2, c, 3]`."
   ]
  },
  {
   "cell_type": "code",
   "execution_count": 7,
   "metadata": {
    "colab": {
     "autoexec": {
      "startup": false,
      "wait_interval": 0
     },
     "base_uri": "https://localhost:8080/",
     "height": 35
    },
    "colab_type": "code",
    "executionInfo": {
     "elapsed": 783,
     "status": "ok",
     "timestamp": 1523219419824,
     "user": {
      "displayName": "Humberto Neto",
      "photoUrl": "//lh4.googleusercontent.com/-srCUfXbZYXc/AAAAAAAAAAI/AAAAAAAAAAc/5xcjfJpRSRY/s50-c-k-no/photo.jpg",
      "userId": "107907802952684013889"
     },
     "user_tz": 180
    },
    "id": "LREQfmsNxpOx",
    "outputId": "1499ea3a-e1d5-4cf7-b90b-016095954364"
   },
   "outputs": [
    {
     "name": "stdout",
     "output_type": "stream",
     "text": [
      "['a', 1, 'b', 2, 'c', 3]\n"
     ]
    }
   ],
   "source": [
    "lst_1 = ['a', 'b', 'c']\n",
    "lst_2 = [1, 2, 3]\n",
    "combined = []\n",
    "\n",
    "assert len(lst_1) == len(lst_2), 'Listas de tamanhos diferentes!'\n",
    " \n",
    "for i in range(len(lst_1)):\n",
    "  combined.append(lst_1[i])\n",
    "  combined.append(lst_2[i])\n",
    "  \n",
    "print(combined)"
   ]
  },
  {
   "cell_type": "markdown",
   "metadata": {
    "colab_type": "text",
    "id": "E_irUDsGxpOz"
   },
   "source": [
    "### Exe. 2\n",
    "\n",
    "Escreva um programa para determinar os elementos não comuns entre duas listas. \n",
    "\n",
    "Exemplo.\n",
    "```python\n",
    "lista1 = [\"red\", \"orange\", \"green\", \"blue\", \"white\"]\n",
    "lista2 = [\"black\", \"yellow\", \"green\", \"blue\"]\n",
    "```\n",
    "Saídas esperadas:\n",
    "```python\n",
    "lista1_lista2: ['white', 'orange', 'red']\n",
    "lista2_lista1: ['black', 'yellow']\n",
    "```"
   ]
  },
  {
   "cell_type": "code",
   "execution_count": 8,
   "metadata": {
    "colab": {
     "autoexec": {
      "startup": false,
      "wait_interval": 0
     },
     "base_uri": "https://localhost:8080/",
     "height": 53
    },
    "colab_type": "code",
    "executionInfo": {
     "elapsed": 659,
     "status": "ok",
     "timestamp": 1523219422588,
     "user": {
      "displayName": "Humberto Neto",
      "photoUrl": "//lh4.googleusercontent.com/-srCUfXbZYXc/AAAAAAAAAAI/AAAAAAAAAAc/5xcjfJpRSRY/s50-c-k-no/photo.jpg",
      "userId": "107907802952684013889"
     },
     "user_tz": 180
    },
    "id": "SPGSgAEkxpO1",
    "outputId": "9b703b42-4f3f-4ac4-9b9a-ff793358c71a"
   },
   "outputs": [
    {
     "name": "stdout",
     "output_type": "stream",
     "text": [
      "['white', 'orange', 'red']\n",
      "['black', 'yellow']\n"
     ]
    }
   ],
   "source": [
    "lst_1 = [\"red\", \"orange\", \"green\", \"blue\", \"white\"]\n",
    "lst_2 = [\"black\", \"yellow\", \"green\", \"blue\"]\n",
    "\n",
    "set_1 = set(lst_1)\n",
    "set_2 = set(lst_2)\n",
    "\n",
    "lst_1_2 = list(set_1 - set_2)\n",
    "lst_2_1 = list(set_2 - set_1)\n",
    "\n",
    "print(lst_1_2)\n",
    "print(lst_2_1)"
   ]
  },
  {
   "cell_type": "markdown",
   "metadata": {
    "colab_type": "text",
    "id": "mc5Jif_vxpO2"
   },
   "source": [
    "### Exe. 3\n",
    "Escreva um programa Python que permita remover elementos duplicados de uma lista.\n",
    "\n",
    "Exemplo\n",
    "```python\n",
    "ListaInput = [10,20,30,20,10,50,60,40,80,50,40] \n",
    "ListaOutput = [10,20,30,50,60,40,80]\n",
    "```"
   ]
  },
  {
   "cell_type": "code",
   "execution_count": 9,
   "metadata": {
    "colab": {
     "autoexec": {
      "startup": false,
      "wait_interval": 0
     },
     "base_uri": "https://localhost:8080/",
     "height": 71
    },
    "colab_type": "code",
    "executionInfo": {
     "elapsed": 642,
     "status": "ok",
     "timestamp": 1523219424518,
     "user": {
      "displayName": "Humberto Neto",
      "photoUrl": "//lh4.googleusercontent.com/-srCUfXbZYXc/AAAAAAAAAAI/AAAAAAAAAAc/5xcjfJpRSRY/s50-c-k-no/photo.jpg",
      "userId": "107907802952684013889"
     },
     "user_tz": 180
    },
    "id": "NIBUXs4ZxpO3",
    "outputId": "20247ca3-e60a-452d-9563-3a869ecce3fa"
   },
   "outputs": [
    {
     "name": "stdout",
     "output_type": "stream",
     "text": [
      "Lista de entrada: [10, 20, 30, 20, 10, 50, 60, 40, 80, 50, 40]\n",
      "Lista de saida: [40, 10, 80, 50, 20, 60, 30]\n",
      "Lista de saida (ordenada): [10, 20, 30, 50, 60, 40, 80]\n"
     ]
    }
   ],
   "source": [
    "lst_in = [10,20,30,20,10,50,60,40,80,50,40]\n",
    "\n",
    "# Independente da ordem:\n",
    "lst_out = list(set(lst_in))\n",
    "\n",
    "# Mantendo a mesma ordem:\n",
    "from collections import OrderedDict\n",
    "lst_out2 = list(OrderedDict.fromkeys(lst_in))\n",
    "\n",
    "print('Lista de entrada: {}'.format(lst_in))\n",
    "print('Lista de saida: {}'.format(lst_out))\n",
    "print('Lista de saida (ordenada): {}'.format(lst_out2))"
   ]
  },
  {
   "cell_type": "markdown",
   "metadata": {
    "colab_type": "text",
    "id": "83oJ8JT9xpO6"
   },
   "source": [
    "### Exe. 4\n",
    "Escreva um programa que dada uma lista de entrada, retorne uma nova lista cujo conteúdo é igual ao original, mas invertida. \n",
    "\n",
    "Exemplo\n",
    "```python\n",
    "ListaInput = [ 'Di', 'bom', 'dia', 'a', 'papa'] \n",
    "ListaOutput = [ 'papa', 'a', 'dia', 'boa', 'Di']\n",
    "```"
   ]
  },
  {
   "cell_type": "code",
   "execution_count": 10,
   "metadata": {
    "colab": {
     "autoexec": {
      "startup": false,
      "wait_interval": 0
     },
     "base_uri": "https://localhost:8080/",
     "height": 53
    },
    "colab_type": "code",
    "executionInfo": {
     "elapsed": 664,
     "status": "ok",
     "timestamp": 1523219426660,
     "user": {
      "displayName": "Humberto Neto",
      "photoUrl": "//lh4.googleusercontent.com/-srCUfXbZYXc/AAAAAAAAAAI/AAAAAAAAAAc/5xcjfJpRSRY/s50-c-k-no/photo.jpg",
      "userId": "107907802952684013889"
     },
     "user_tz": 180
    },
    "id": "0TSXuphQxpO7",
    "outputId": "0adcefd6-c599-4ea2-e414-eea484245ca0"
   },
   "outputs": [
    {
     "name": "stdout",
     "output_type": "stream",
     "text": [
      "Lista de entrada: ['Di', 'bom', 'dia', 'a', 'papa']\n",
      "Lista de saida: ['papa', 'a', 'dia', 'bom', 'Di']\n"
     ]
    }
   ],
   "source": [
    "lst_in = [ 'Di', 'bom', 'dia', 'a', 'papa'] \n",
    "lst_out = list(reversed(lst_in))\n",
    "\n",
    "print('Lista de entrada: {}'.format(lst_in))\n",
    "print('Lista de saida: {}'.format(lst_out))"
   ]
  },
  {
   "cell_type": "markdown",
   "metadata": {
    "colab_type": "text",
    "id": "ilpvSIUOxpO-"
   },
   "source": [
    "### Exe. 5\n",
    "Faça uma função que determine a superposição de duas listas, ou seja, que retorne `True` se as listas têm pelo menos um elemento em comum, caso contrario, deve retornar `False`."
   ]
  },
  {
   "cell_type": "code",
   "execution_count": 11,
   "metadata": {
    "colab": {
     "autoexec": {
      "startup": false,
      "wait_interval": 0
     },
     "base_uri": "https://localhost:8080/",
     "height": 35
    },
    "colab_type": "code",
    "executionInfo": {
     "elapsed": 800,
     "status": "ok",
     "timestamp": 1523219429094,
     "user": {
      "displayName": "Humberto Neto",
      "photoUrl": "//lh4.googleusercontent.com/-srCUfXbZYXc/AAAAAAAAAAI/AAAAAAAAAAc/5xcjfJpRSRY/s50-c-k-no/photo.jpg",
      "userId": "107907802952684013889"
     },
     "user_tz": 180
    },
    "id": "5dE74EV0xpO-",
    "outputId": "c9eb3616-3aeb-4587-ed9b-01b7e217b511"
   },
   "outputs": [
    {
     "data": {
      "text/plain": [
       "True"
      ]
     },
     "execution_count": 11,
     "metadata": {
      "tags": []
     },
     "output_type": "execute_result"
    }
   ],
   "source": [
    "def superposicao(lst_1, lst_2):\n",
    "  return True if len(set(lst_1).intersection(set(lst_2)))>0 else False\n",
    "\n",
    "lst_1 = [\"red\", \"orange\", \"green\", \"blue\", \"white\"]\n",
    "lst_2 = [\"black\", \"yellow\", \"green\", \"blue\"]\n",
    "\n",
    "superposicao(lst_1, lst_2)"
   ]
  },
  {
   "cell_type": "markdown",
   "metadata": {
    "colab_type": "text",
    "id": "OklzdgM3xpPB"
   },
   "source": [
    "## Exercícios sobre Tuplas <a name=\"ExerTuplas\"></a>"
   ]
  },
  {
   "cell_type": "markdown",
   "metadata": {
    "colab_type": "text",
    "id": "_RE8OnU2xpPC"
   },
   "source": [
    "### Exe. 1\n",
    "Escreva um programa que permita classificar as tuplas (nome, idade, altura) por ordem crescente, onde o nome é string, idade e altura são números. \n",
    "As tuplas são inseridas pelo console. \n",
    "\n",
    "Os critérios de classificação são:\n",
    "1. Classificar com base no nome;\n",
    "2. Em seguida, classificar com base na idade;\n",
    "3. Em seguida, classificar por altura.\n",
    "4. A prioridade é que:  `nome> idade> altura`.\n",
    "\n",
    "A entrada é dada como uma string, onde as tuplas são separadas por dois pontos (;) e os elementos de cada tupla são separados por vírgula (,).\n",
    "\n",
    "Exemplo.\n",
    "Se as seguintes tuplas são dadas como entrada para o programa:\n",
    "```python\n",
    "str_input = 'Tom,19,80;João,20,90;Jony,17,91;Jony,17,93;Json,21,85'\n",
    "```\n",
    "Em seguida, a saída do programa deve ser:\n",
    "```python\n",
    "tupla_output = [('Jony', '17', '91'), ('Jony', '17', '93'), ('João', '20', '90'), ('Json', '21', '85'), ('Tom', '19', '80')]\n",
    "```"
   ]
  },
  {
   "cell_type": "code",
   "execution_count": 12,
   "metadata": {
    "colab": {
     "autoexec": {
      "startup": false,
      "wait_interval": 0
     },
     "base_uri": "https://localhost:8080/",
     "height": 35
    },
    "colab_type": "code",
    "executionInfo": {
     "elapsed": 678,
     "status": "ok",
     "timestamp": 1523219431970,
     "user": {
      "displayName": "Humberto Neto",
      "photoUrl": "//lh4.googleusercontent.com/-srCUfXbZYXc/AAAAAAAAAAI/AAAAAAAAAAc/5xcjfJpRSRY/s50-c-k-no/photo.jpg",
      "userId": "107907802952684013889"
     },
     "user_tz": 180
    },
    "id": "rh3Qq3PPxpPC",
    "outputId": "eeb41c2e-4347-46e8-916c-e533735dc34e"
   },
   "outputs": [
    {
     "name": "stdout",
     "output_type": "stream",
     "text": [
      "[('Jony', '17', '91'), ('Jony', '17', '93'), ('João', '20', '90'), ('Json', '21', '85'), ('Tom', '19', '80')]\n"
     ]
    }
   ],
   "source": [
    "str_in = 'Tom,19,80;João,20,90;Jony,17,91;Jony,17,93;Json,21,85'.split(';')\n",
    "lst = []\n",
    "\n",
    "for i in str_in:\n",
    "  t = tuple(i.split(','))\n",
    "  lst.append(t)\n",
    "\n",
    "lst = sorted(lst)\n",
    "\n",
    "print(lst)"
   ]
  },
  {
   "cell_type": "markdown",
   "metadata": {
    "colab_type": "text",
    "id": "3c4FhBmTxpPE"
   },
   "source": [
    "### Exe. 2\n",
    "Escreva um programa que mostre todas fichas de dominó, sem repetir, um por linha. da seguinte forma:\n",
    "```\n",
    "1:1\n",
    "1:2\n",
    "...\n",
    "6:6\n",
    "```"
   ]
  },
  {
   "cell_type": "code",
   "execution_count": 13,
   "metadata": {
    "colab": {
     "autoexec": {
      "startup": false,
      "wait_interval": 0
     },
     "base_uri": "https://localhost:8080/",
     "height": 665
    },
    "colab_type": "code",
    "executionInfo": {
     "elapsed": 648,
     "status": "ok",
     "timestamp": 1523219435239,
     "user": {
      "displayName": "Humberto Neto",
      "photoUrl": "//lh4.googleusercontent.com/-srCUfXbZYXc/AAAAAAAAAAI/AAAAAAAAAAc/5xcjfJpRSRY/s50-c-k-no/photo.jpg",
      "userId": "107907802952684013889"
     },
     "user_tz": 180
    },
    "id": "fKAUv7tNxpPE",
    "outputId": "4da3cf8c-6e80-44c2-e3aa-d8aa4accc58f"
   },
   "outputs": [
    {
     "name": "stdout",
     "output_type": "stream",
     "text": [
      "1:1\n",
      "1:2\n",
      "1:3\n",
      "1:4\n",
      "1:5\n",
      "1:6\n",
      "2:1\n",
      "2:2\n",
      "2:3\n",
      "2:4\n",
      "2:5\n",
      "2:6\n",
      "3:1\n",
      "3:2\n",
      "3:3\n",
      "3:4\n",
      "3:5\n",
      "3:6\n",
      "4:1\n",
      "4:2\n",
      "4:3\n",
      "4:4\n",
      "4:5\n",
      "4:6\n",
      "5:1\n",
      "5:2\n",
      "5:3\n",
      "5:4\n",
      "5:5\n",
      "5:6\n",
      "6:1\n",
      "6:2\n",
      "6:3\n",
      "6:4\n",
      "6:5\n",
      "6:6\n"
     ]
    }
   ],
   "source": [
    "def dominoes_tiles():\n",
    "  tiles = []\n",
    "  for i in range(1,7):\n",
    "    for j in range(1,7):\n",
    "      aux = (i,j)\n",
    "      tiles.append(aux)\n",
    "      \n",
    "  return tiles\n",
    "\n",
    "tiles = dominoes_tiles()\n",
    "\n",
    "for i in tiles:\n",
    "  print ('{}:{}'.format(i[0],i[1]))   "
   ]
  },
  {
   "cell_type": "markdown",
   "metadata": {
    "colab_type": "text",
    "id": "WLEIXl1AxpPH"
   },
   "source": [
    "### Exe. 3\n",
    "Escreva uma função que retorne `True` se duas fichas de dominó encaixarem ou não. \n",
    "As fichas de dominó são representadas como tuplas, por exemplo, `(3,4)` e `(5,4)`."
   ]
  },
  {
   "cell_type": "code",
   "execution_count": 14,
   "metadata": {
    "colab": {
     "autoexec": {
      "startup": false,
      "wait_interval": 0
     },
     "base_uri": "https://localhost:8080/",
     "height": 53
    },
    "colab_type": "code",
    "executionInfo": {
     "elapsed": 655,
     "status": "ok",
     "timestamp": 1523219439034,
     "user": {
      "displayName": "Humberto Neto",
      "photoUrl": "//lh4.googleusercontent.com/-srCUfXbZYXc/AAAAAAAAAAI/AAAAAAAAAAc/5xcjfJpRSRY/s50-c-k-no/photo.jpg",
      "userId": "107907802952684013889"
     },
     "user_tz": 180
    },
    "id": "4SwvyIftxpPJ",
    "outputId": "8344fbfd-3c31-4f36-9bd7-ecfa0afb72d6"
   },
   "outputs": [
    {
     "name": "stdout",
     "output_type": "stream",
     "text": [
      "False\n",
      "True\n"
     ]
    }
   ],
   "source": [
    "def dominoes_fit(tile_1, tile_2):\n",
    "  return True if (tile_1[0] in tile_2) or (tile_1[1] in tile_2) else False\n",
    "  \n",
    "print(dominoes_fit((1,1),(5,2)))\n",
    "print(dominoes_fit((1,4),(1,2)))"
   ]
  },
  {
   "cell_type": "markdown",
   "metadata": {
    "colab_type": "text",
    "id": "ucmPScpcxpPK"
   },
   "source": [
    "## Exercícios sobre Dicionários <a name=\"ExerDicionarios\"></a>"
   ]
  },
  {
   "cell_type": "markdown",
   "metadata": {
    "colab_type": "text",
    "id": "Zq7pCojDxpPL"
   },
   "source": [
    "### Exe. 1\n",
    "Escreva uma função que permita concatenar dicionários e criar um novo dicionário.\n",
    "\n",
    "Exemplo.\n",
    "Sejam os dicionários de entrada\n",
    "```python\n",
    "dic1={1:10, 2:20}\n",
    "dic2={3:30, 4:40}\n",
    "dic3={5:50,6:60}\n",
    "```\n",
    "o resultado esperado será:\n",
    "```python\n",
    "{1: 10, 2: 20, 3: 30, 4: 40, 5: 50, 6: 60}\n",
    "```"
   ]
  },
  {
   "cell_type": "code",
   "execution_count": 15,
   "metadata": {
    "colab": {
     "autoexec": {
      "startup": false,
      "wait_interval": 0
     },
     "base_uri": "https://localhost:8080/",
     "height": 35
    },
    "colab_type": "code",
    "executionInfo": {
     "elapsed": 674,
     "status": "ok",
     "timestamp": 1523219441230,
     "user": {
      "displayName": "Humberto Neto",
      "photoUrl": "//lh4.googleusercontent.com/-srCUfXbZYXc/AAAAAAAAAAI/AAAAAAAAAAc/5xcjfJpRSRY/s50-c-k-no/photo.jpg",
      "userId": "107907802952684013889"
     },
     "user_tz": 180
    },
    "id": "RQ11SEyzxpPN",
    "outputId": "4ba6cffc-4c7a-4de3-9d31-e405f890fe4d"
   },
   "outputs": [
    {
     "data": {
      "text/plain": [
       "{1: 10, 2: 20, 3: 30, 4: 40, 5: 50, 6: 60}"
      ]
     },
     "execution_count": 15,
     "metadata": {
      "tags": []
     },
     "output_type": "execute_result"
    }
   ],
   "source": [
    "def dic_conc(*args):\n",
    "  for i in range(1,len(args)):\n",
    "    args[0].update(args[i])\n",
    "    \n",
    "  return args[0]\n",
    "\n",
    "dic_1 = {1:10, 2:20}\n",
    "dic_2 = {3:30, 4:40}\n",
    "dic_3 = {5:50,6:60}\n",
    "\n",
    "dic_conc(dic_1, dic_2, dic_3)"
   ]
  },
  {
   "cell_type": "markdown",
   "metadata": {
    "colab_type": "text",
    "id": "0pHYNF2gxpPO"
   },
   "source": [
    "### Exe. 2\n",
    "Escreva um programa para calcular a frequência das palavras a partir de uma string de entrada. \n",
    "A saída deve ser exibida após a classificação alfanumérica da chave.\n",
    "\n",
    "Exemplo:\n",
    "Suponha que o seguinte string de entrada seja fornecida ao programa:\n",
    "```python\n",
    "str_input = 'Novo para Python ou escolher entre Python 2 e Python 3? Leia Python 2 ou Python 3'\n",
    "```\n",
    "Em seguida, a saída do programa deve ser:\n",
    "```\n",
    "2:2\n",
    "3:1\n",
    "3?:1\n",
    "Leia:1\n",
    "Novo:1\n",
    "Python:5\n",
    "e:1\n",
    "entre:1\n",
    "escolher:1\n",
    "ou:2\n",
    "para:1\n",
    "```\n",
    "Sugestões: use um dicionário para guardar os pares (palavra, frequência) ."
   ]
  },
  {
   "cell_type": "code",
   "execution_count": 16,
   "metadata": {
    "colab": {
     "autoexec": {
      "startup": false,
      "wait_interval": 0
     },
     "base_uri": "https://localhost:8080/",
     "height": 215
    },
    "colab_type": "code",
    "executionInfo": {
     "elapsed": 841,
     "status": "ok",
     "timestamp": 1523219444173,
     "user": {
      "displayName": "Humberto Neto",
      "photoUrl": "//lh4.googleusercontent.com/-srCUfXbZYXc/AAAAAAAAAAI/AAAAAAAAAAc/5xcjfJpRSRY/s50-c-k-no/photo.jpg",
      "userId": "107907802952684013889"
     },
     "user_tz": 180
    },
    "id": "RE4G65T3xpPP",
    "outputId": "d07f60c9-e124-410c-aa54-adf8858ed2c8"
   },
   "outputs": [
    {
     "data": {
      "text/plain": [
       "{'2': 2,\n",
       " '3': 1,\n",
       " '3?': 1,\n",
       " 'Leia': 1,\n",
       " 'Novo': 1,\n",
       " 'Python': 5,\n",
       " 'e': 1,\n",
       " 'entre': 1,\n",
       " 'escolher': 1,\n",
       " 'ou': 2,\n",
       " 'para': 1}"
      ]
     },
     "execution_count": 16,
     "metadata": {
      "tags": []
     },
     "output_type": "execute_result"
    }
   ],
   "source": [
    "def string_freq(string):\n",
    "  dic = {}\n",
    "  for word in string.split():\n",
    "    if not word in dic:\n",
    "      dic.update({word:1})\n",
    "    else:\n",
    "      dic[word] += 1\n",
    "      \n",
    "  return dic\n",
    "\n",
    "str_in = 'Novo para Python ou escolher entre Python 2 e Python 3? Leia Python 2 ou Python 3'\n",
    "string_freq(str_in)"
   ]
  },
  {
   "cell_type": "markdown",
   "metadata": {
    "colab_type": "text",
    "id": "LZsv9YI7xpPS"
   },
   "source": [
    "### Exe. 3\n",
    "Existem 36 possíveis combinações de dois dados. \n",
    "Usando a soma dos dois dados como a chave, criar um dicionário de todas as combinações de ṕares possíveis para os dois dados. Evidentemente, cada valor no dicionário deve ser uma lista de tuplas, onde,  cada tupla tem o valor de dois dados."
   ]
  },
  {
   "cell_type": "code",
   "execution_count": 17,
   "metadata": {
    "colab": {
     "autoexec": {
      "startup": false,
      "wait_interval": 0
     },
     "base_uri": "https://localhost:8080/",
     "height": 233
    },
    "colab_type": "code",
    "executionInfo": {
     "elapsed": 641,
     "status": "ok",
     "timestamp": 1523219448412,
     "user": {
      "displayName": "Humberto Neto",
      "photoUrl": "//lh4.googleusercontent.com/-srCUfXbZYXc/AAAAAAAAAAI/AAAAAAAAAAc/5xcjfJpRSRY/s50-c-k-no/photo.jpg",
      "userId": "107907802952684013889"
     },
     "user_tz": 180
    },
    "id": "HlH-7PnMxpPT",
    "outputId": "48ff21cf-a343-4135-fe50-7293176bff12"
   },
   "outputs": [
    {
     "data": {
      "text/plain": [
       "defaultdict(list,\n",
       "            {2: [(1, 1)],\n",
       "             3: [(1, 2), (2, 1)],\n",
       "             4: [(1, 3), (2, 2), (3, 1)],\n",
       "             5: [(1, 4), (2, 3), (3, 2), (4, 1)],\n",
       "             6: [(1, 5), (2, 4), (3, 3), (4, 2), (5, 1)],\n",
       "             7: [(1, 6), (2, 5), (3, 4), (4, 3), (5, 2), (6, 1)],\n",
       "             8: [(2, 6), (3, 5), (4, 4), (5, 3), (6, 2)],\n",
       "             9: [(3, 6), (4, 5), (5, 4), (6, 3)],\n",
       "             10: [(4, 6), (5, 5), (6, 4)],\n",
       "             11: [(5, 6), (6, 5)],\n",
       "             12: [(6, 6)]})"
      ]
     },
     "execution_count": 17,
     "metadata": {
      "tags": []
     },
     "output_type": "execute_result"
    }
   ],
   "source": [
    "from collections import defaultdict\n",
    "\n",
    "dic = defaultdict(list)\n",
    "for i in range(1,7):\n",
    "  for j in range(1,7):\n",
    "    dic[i+j].append((i,j))\n",
    "\n",
    "dic"
   ]
  },
  {
   "cell_type": "markdown",
   "metadata": {
    "colab_type": "text",
    "id": "L4BvELWZxpPW"
   },
   "source": [
    "### Exe. 4\n",
    "A data do formulário 8-MAR-75 inclui o nome do mês, que deve ser traduzido para um número. \n",
    "Crie um dicionário adequado para decodificar nomes de mês para números. \n",
    "Crie uma função que aceite uma data no formato \"dd-mm-yy\" e devolva uma tupla de (y, m, d)."
   ]
  },
  {
   "cell_type": "code",
   "execution_count": 18,
   "metadata": {
    "colab": {
     "autoexec": {
      "startup": false,
      "wait_interval": 0
     },
     "base_uri": "https://localhost:8080/",
     "height": 35
    },
    "colab_type": "code",
    "executionInfo": {
     "elapsed": 629,
     "status": "ok",
     "timestamp": 1523219451554,
     "user": {
      "displayName": "Humberto Neto",
      "photoUrl": "//lh4.googleusercontent.com/-srCUfXbZYXc/AAAAAAAAAAI/AAAAAAAAAAc/5xcjfJpRSRY/s50-c-k-no/photo.jpg",
      "userId": "107907802952684013889"
     },
     "user_tz": 180
    },
    "id": "k6div5tmxpPX",
    "outputId": "25420f99-f5a2-430a-a634-7affe0ba2350"
   },
   "outputs": [
    {
     "data": {
      "text/plain": [
       "(27, 'JAN', 97)"
      ]
     },
     "execution_count": 18,
     "metadata": {
      "tags": []
     },
     "output_type": "execute_result"
    }
   ],
   "source": [
    "def date_conv(date):\n",
    "  month = ['JAN','FEV','MAR','ABR','MAI','JUN','JUL','AGO','SET','OUT','NOV','DEZ']\n",
    "  dic_month = {}\n",
    "  for i in range(12):\n",
    "    dic_month[i+1] = month[i]\n",
    "\n",
    "  date = date.split('-')\n",
    "  return (int(date[0]), dic_month[int(date[1])], int(date[2]))\n",
    "  \n",
    "date = '27-01-97'\n",
    "date_conv(date)"
   ]
  },
  {
   "cell_type": "markdown",
   "metadata": {
    "colab_type": "text",
    "id": "nJ54MFtYxpPZ"
   },
   "source": [
    "### Exe. 5\n",
    "\n",
    "Em criptografia, a Cifra de César, também conhecida como cifra de troca, código de César ou troca de César, é uma das mais simples e conhecidas técnicas de criptografia, na qual cada letra do texto é substituída por outra, que se apresenta no alfabeto abaixo dela um número fixo de vezes.\n",
    "Por exemplo, com uma mudança de 3, \n",
    "A seria substituído por D, \n",
    "B se tornaria E, e assim por diante. \n",
    "\n",
    "ROT-13 (\"rotação por 13 posições\") é um exemplo amplamente utilizado de uma cifra de César, onde o deslocamento é 13. \n",
    "Em Python, a chave para ROT-13 pode ser representada por meio do seguinte dicionário:\n",
    "```python\n",
    "key = {'a':'n', 'b':'o', 'c':'p', 'd':'q', 'e':'r', 'f':'s', 'g':'t', 'h':'u', \n",
    "       'i':'v', 'j':'w', 'k':'x', 'l':'y', 'm':'z', 'n':'a', 'o':'b', 'p':'c', \n",
    "       'q':'d', 'r':'e', 's':'f', 't':'g', 'u':'h', 'v':'i', 'w':'j', 'x':'k',\n",
    "       'y':'l', 'z':'m', 'A':'N', 'B':'O', 'C':'P', 'D':'Q', 'E':'R', 'F':'S', \n",
    "       'G':'T', 'H':'U', 'I':'V', 'J':'W', 'K':'X', 'L':'Y', 'M':'Z', 'N':'A', \n",
    "       'O':'B', 'P':'C', 'Q':'D', 'R':'E', 'S':'F', 'T':'G', 'U':'H', 'V':'I', \n",
    "       'W':'J', 'X':'K', 'Y':'L', 'Z':'M'}\n",
    "```\n",
    "Sua tarefa neste exercício é implementar um codificador/decodificador para ROT-13. \n",
    "Depois de terminar, você poderá ler o seguinte mensagem secreto:\n",
    "\n",
    "> _Pnrfne pvcure? V zhpu cersre Pnrfne fnynq\\!_\n",
    "\n",
    "Note que, uma vez que, foi usado o alfabeto em inglês, seu programa será capaz de codificar e decodificar textos escritos em inglês usando ROT-13."
   ]
  },
  {
   "cell_type": "code",
   "execution_count": 19,
   "metadata": {
    "colab": {
     "autoexec": {
      "startup": false,
      "wait_interval": 0
     },
     "base_uri": "https://localhost:8080/",
     "height": 35
    },
    "colab_type": "code",
    "executionInfo": {
     "elapsed": 764,
     "status": "ok",
     "timestamp": 1523219454593,
     "user": {
      "displayName": "Humberto Neto",
      "photoUrl": "//lh4.googleusercontent.com/-srCUfXbZYXc/AAAAAAAAAAI/AAAAAAAAAAc/5xcjfJpRSRY/s50-c-k-no/photo.jpg",
      "userId": "107907802952684013889"
     },
     "user_tz": 180
    },
    "id": "HTmSevCZxpPa",
    "outputId": "3bf0319b-00b8-4b9e-dc48-a1daf6e6aa79"
   },
   "outputs": [
    {
     "data": {
      "text/plain": [
       "'Caesar cipher? I much prefer Caesar salad!'"
      ]
     },
     "execution_count": 19,
     "metadata": {
      "tags": []
     },
     "output_type": "execute_result"
    }
   ],
   "source": [
    "def rot_13(string):\n",
    "  key = {'a':'n', 'b':'o', 'c':'p', 'd':'q', 'e':'r', 'f':'s', 'g':'t', 'h':'u', \n",
    "       'i':'v', 'j':'w', 'k':'x', 'l':'y', 'm':'z', 'n':'a', 'o':'b', 'p':'c', \n",
    "       'q':'d', 'r':'e', 's':'f', 't':'g', 'u':'h', 'v':'i', 'w':'j', 'x':'k',\n",
    "       'y':'l', 'z':'m', 'A':'N', 'B':'O', 'C':'P', 'D':'Q', 'E':'R', 'F':'S', \n",
    "       'G':'T', 'H':'U', 'I':'V', 'J':'W', 'K':'X', 'L':'Y', 'M':'Z', 'N':'A', \n",
    "       'O':'B', 'P':'C', 'Q':'D', 'R':'E', 'S':'F', 'T':'G', 'U':'H', 'V':'I', \n",
    "       'W':'J', 'X':'K', 'Y':'L', 'Z':'M'}\n",
    "  \n",
    "  string = list(string)\n",
    " \n",
    "  for i in range(len(string)):\n",
    "    if string[i] in key:\n",
    "      string[i] = key[string[i]]\n",
    "    \n",
    "  return ''.join(string)\n",
    "    \n",
    "string = 'Pnrfne pvcure? V zhpu cersre Pnrfne fnynq!'\n",
    "rot_13(string)"
   ]
  },
  {
   "cell_type": "markdown",
   "metadata": {
    "colab_type": "text",
    "id": "EiUxJvcdxpPc"
   },
   "source": [
    "## Exercícios sobre sentenças condicionais e de repetição <a name=\"ExerCondRept\"></a>"
   ]
  },
  {
   "cell_type": "markdown",
   "metadata": {
    "colab_type": "text",
    "id": "ZvgB1WPtxpPe"
   },
   "source": [
    "### Exe. 1\n",
    "Escreva três funções que calculem a soma dos elementos de uma lista, usando a instrução `while`, a instrução `for` e _recursão_."
   ]
  },
  {
   "cell_type": "code",
   "execution_count": 0,
   "metadata": {
    "colab": {
     "autoexec": {
      "startup": false,
      "wait_interval": 0
     }
    },
    "colab_type": "code",
    "id": "mzDG5RtBjjzr"
   },
   "outputs": [],
   "source": [
    "def sum_while(lst):\n",
    "  soma, i = 0, 0\n",
    "  while i<len(lst):\n",
    "    soma += lst[i]\n",
    "    i += 1\n",
    "  \n",
    "  return soma\n",
    "  \n",
    "def sum_for(lst):\n",
    "  soma = 0\n",
    "  for i in lst:\n",
    "    soma += i\n",
    "  \n",
    "  return soma\n",
    "  \n",
    "def sum_rec(lst):\n",
    "  if len(lst) == 1:\n",
    "    return lst[0]\n",
    "  else:\n",
    "    return lst[0] + sum_rec(lst[1:])"
   ]
  },
  {
   "cell_type": "code",
   "execution_count": 21,
   "metadata": {
    "colab": {
     "autoexec": {
      "startup": false,
      "wait_interval": 0
     },
     "base_uri": "https://localhost:8080/",
     "height": 71
    },
    "colab_type": "code",
    "executionInfo": {
     "elapsed": 651,
     "status": "ok",
     "timestamp": 1523219460202,
     "user": {
      "displayName": "Humberto Neto",
      "photoUrl": "//lh4.googleusercontent.com/-srCUfXbZYXc/AAAAAAAAAAI/AAAAAAAAAAc/5xcjfJpRSRY/s50-c-k-no/photo.jpg",
      "userId": "107907802952684013889"
     },
     "user_tz": 180
    },
    "id": "5LXUk7vajkZc",
    "outputId": "63b6db8f-52a0-4b49-efbd-b9d7aae21d7c"
   },
   "outputs": [
    {
     "name": "stdout",
     "output_type": "stream",
     "text": [
      "28\n",
      "28\n",
      "28\n"
     ]
    }
   ],
   "source": [
    "lst = [1,2,3,4,5,6,7]\n",
    "\n",
    "print(sum_while(lst))\n",
    "print(sum_for(lst))\n",
    "print(sum_rec(lst))\n"
   ]
  },
  {
   "cell_type": "markdown",
   "metadata": {
    "colab_type": "text",
    "id": "iJT-mOWyxpPi"
   },
   "source": [
    "### Exe. 2\n",
    "Desenvolva um gerador de tabuada, capaz de gerar a tabuada de qualquer número inteiro entre 1 a 10. O usuário deve informar de qual número ele deseja ver a tabuada. A saída deve ser conforme o exemplo abaixo:\n",
    "Tabuada de $5$:\n",
    "$$\n",
    "\\begin{eqnarray}\n",
    "5 \\times 1 &=& 5\\\\\n",
    "5 \\times 2 &=& 10\\\\\n",
    "...\\\\\n",
    "5 \\times 10 &=& 50\n",
    "\\end{eqnarray}\n",
    "$$"
   ]
  },
  {
   "cell_type": "code",
   "execution_count": 22,
   "metadata": {
    "colab": {
     "autoexec": {
      "startup": false,
      "wait_interval": 0
     },
     "base_uri": "https://localhost:8080/",
     "height": 197
    },
    "colab_type": "code",
    "executionInfo": {
     "elapsed": 665,
     "status": "ok",
     "timestamp": 1523219462604,
     "user": {
      "displayName": "Humberto Neto",
      "photoUrl": "//lh4.googleusercontent.com/-srCUfXbZYXc/AAAAAAAAAAI/AAAAAAAAAAc/5xcjfJpRSRY/s50-c-k-no/photo.jpg",
      "userId": "107907802952684013889"
     },
     "user_tz": 180
    },
    "id": "-cUPRYwLxpPj",
    "outputId": "625b333d-43cb-48c9-d303-4d8e96248598"
   },
   "outputs": [
    {
     "name": "stdout",
     "output_type": "stream",
     "text": [
      "7 x 1 = 7\n",
      "7 x 2 = 14\n",
      "7 x 3 = 21\n",
      "7 x 4 = 28\n",
      "7 x 5 = 35\n",
      "7 x 6 = 42\n",
      "7 x 7 = 49\n",
      "7 x 8 = 56\n",
      "7 x 9 = 63\n",
      "7 x 10 = 70\n"
     ]
    }
   ],
   "source": [
    "def multi_table(num):\n",
    "  for i in range(10):\n",
    "    print('{} x {} = {}'.format(num, i+1, num*(i+1)))\n",
    "    \n",
    "multi_table(7)"
   ]
  },
  {
   "cell_type": "markdown",
   "metadata": {
    "colab_type": "text",
    "id": "cQlBHCBwxpPl"
   },
   "source": [
    "### Exe. 3\n",
    "Escreva um programa que determine todos os números que são divisíveis por 7, mas não são um múltiplo de 5, entre 2000 e 3200 (ambos incluídos).\n",
    "Os números obtidos devem ser impressos em uma seqüência separada por vírgulas em uma única linha."
   ]
  },
  {
   "cell_type": "code",
   "execution_count": 23,
   "metadata": {
    "colab": {
     "autoexec": {
      "startup": false,
      "wait_interval": 0
     },
     "base_uri": "https://localhost:8080/",
     "height": 55
    },
    "colab_type": "code",
    "executionInfo": {
     "elapsed": 649,
     "status": "ok",
     "timestamp": 1523219465432,
     "user": {
      "displayName": "Humberto Neto",
      "photoUrl": "//lh4.googleusercontent.com/-srCUfXbZYXc/AAAAAAAAAAI/AAAAAAAAAAc/5xcjfJpRSRY/s50-c-k-no/photo.jpg",
      "userId": "107907802952684013889"
     },
     "user_tz": 180
    },
    "id": "V2aui15YxpPl",
    "outputId": "f13bdaff-1fe2-4d1c-ffb6-223c3887b934"
   },
   "outputs": [
    {
     "name": "stdout",
     "output_type": "stream",
     "text": [
      "[2002, 2009, 2016, 2023, 2037, 2044, 2051, 2058, 2072, 2079, 2086, 2093, 2107, 2114, 2121, 2128, 2142, 2149, 2156, 2163, 2177, 2184, 2191, 2198, 2212, 2219, 2226, 2233, 2247, 2254, 2261, 2268, 2282, 2289, 2296, 2303, 2317, 2324, 2331, 2338, 2352, 2359, 2366, 2373, 2387, 2394, 2401, 2408, 2422, 2429, 2436, 2443, 2457, 2464, 2471, 2478, 2492, 2499, 2506, 2513, 2527, 2534, 2541, 2548, 2562, 2569, 2576, 2583, 2597, 2604, 2611, 2618, 2632, 2639, 2646, 2653, 2667, 2674, 2681, 2688, 2702, 2709, 2716, 2723, 2737, 2744, 2751, 2758, 2772, 2779, 2786, 2793, 2807, 2814, 2821, 2828, 2842, 2849, 2856, 2863, 2877, 2884, 2891, 2898, 2912, 2919, 2926, 2933, 2947, 2954, 2961, 2968, 2982, 2989, 2996, 3003, 3017, 3024, 3031, 3038, 3052, 3059, 3066, 3073, 3087, 3094, 3101, 3108, 3122, 3129, 3136, 3143, 3157, 3164, 3171, 3178, 3192, 3199]\n"
     ]
    }
   ],
   "source": [
    "def div7_but5(min, max):\n",
    "  num = min\n",
    "  lst = []\n",
    "  \n",
    "  while(num <= max):\n",
    "    lst.append(num) if (num%7)==0 and (num%5)!=0 else None\n",
    "    num += 1\n",
    "  \n",
    "  return lst\n",
    " \n",
    "print(div7_but5(2000,3200))"
   ]
  },
  {
   "cell_type": "markdown",
   "metadata": {
    "colab_type": "text",
    "id": "P_aW9t69xpPm"
   },
   "source": [
    "### Exe.4\n",
    "Escreva um programa, que determine todos os números entre 1000 e 3000 (ambos incluídos), de tal forma que, cada dígito de número é um número par.\n",
    "Os números obtidos devem ser impressos em uma seqüência separada por vírgulas em uma única linha."
   ]
  },
  {
   "cell_type": "code",
   "execution_count": 24,
   "metadata": {
    "colab": {
     "autoexec": {
      "startup": false,
      "wait_interval": 0
     },
     "base_uri": "https://localhost:8080/",
     "height": 55
    },
    "colab_type": "code",
    "executionInfo": {
     "elapsed": 651,
     "status": "ok",
     "timestamp": 1523219467701,
     "user": {
      "displayName": "Humberto Neto",
      "photoUrl": "//lh4.googleusercontent.com/-srCUfXbZYXc/AAAAAAAAAAI/AAAAAAAAAAc/5xcjfJpRSRY/s50-c-k-no/photo.jpg",
      "userId": "107907802952684013889"
     },
     "user_tz": 180
    },
    "id": "W-NWYLK6xpPn",
    "outputId": "bf60f980-11d2-4332-b980-dc894ea0bc81"
   },
   "outputs": [
    {
     "name": "stdout",
     "output_type": "stream",
     "text": [
      "[1000, 1002, 1004, 1006, 1008, 1010, 1012, 1014, 1016, 1018, 1020, 1022, 1024, 1026, 1028, 1030, 1032, 1034, 1036, 1038, 1040, 1042, 1044, 1046, 1048, 1050, 1052, 1054, 1056, 1058, 1060, 1062, 1064, 1066, 1068, 1070, 1072, 1074, 1076, 1078, 1080, 1082, 1084, 1086, 1088, 1090, 1092, 1094, 1096, 1098, 1100, 1102, 1104, 1106, 1108, 1110, 1112, 1114, 1116, 1118, 1120, 1122, 1124, 1126, 1128, 1130, 1132, 1134, 1136, 1138, 1140, 1142, 1144, 1146, 1148, 1150, 1152, 1154, 1156, 1158, 1160, 1162, 1164, 1166, 1168, 1170, 1172, 1174, 1176, 1178, 1180, 1182, 1184, 1186, 1188, 1190, 1192, 1194, 1196, 1198, 1200, 1202, 1204, 1206, 1208, 1210, 1212, 1214, 1216, 1218, 1220, 1222, 1224, 1226, 1228, 1230, 1232, 1234, 1236, 1238, 1240, 1242, 1244, 1246, 1248, 1250, 1252, 1254, 1256, 1258, 1260, 1262, 1264, 1266, 1268, 1270, 1272, 1274, 1276, 1278, 1280, 1282, 1284, 1286, 1288, 1290, 1292, 1294, 1296, 1298, 1300, 1302, 1304, 1306, 1308, 1310, 1312, 1314, 1316, 1318, 1320, 1322, 1324, 1326, 1328, 1330, 1332, 1334, 1336, 1338, 1340, 1342, 1344, 1346, 1348, 1350, 1352, 1354, 1356, 1358, 1360, 1362, 1364, 1366, 1368, 1370, 1372, 1374, 1376, 1378, 1380, 1382, 1384, 1386, 1388, 1390, 1392, 1394, 1396, 1398, 1400, 1402, 1404, 1406, 1408, 1410, 1412, 1414, 1416, 1418, 1420, 1422, 1424, 1426, 1428, 1430, 1432, 1434, 1436, 1438, 1440, 1442, 1444, 1446, 1448, 1450, 1452, 1454, 1456, 1458, 1460, 1462, 1464, 1466, 1468, 1470, 1472, 1474, 1476, 1478, 1480, 1482, 1484, 1486, 1488, 1490, 1492, 1494, 1496, 1498, 1500, 1502, 1504, 1506, 1508, 1510, 1512, 1514, 1516, 1518, 1520, 1522, 1524, 1526, 1528, 1530, 1532, 1534, 1536, 1538, 1540, 1542, 1544, 1546, 1548, 1550, 1552, 1554, 1556, 1558, 1560, 1562, 1564, 1566, 1568, 1570, 1572, 1574, 1576, 1578, 1580, 1582, 1584, 1586, 1588, 1590, 1592, 1594, 1596, 1598, 1600, 1602, 1604, 1606, 1608, 1610, 1612, 1614, 1616, 1618, 1620, 1622, 1624, 1626, 1628, 1630, 1632, 1634, 1636, 1638, 1640, 1642, 1644, 1646, 1648, 1650, 1652, 1654, 1656, 1658, 1660, 1662, 1664, 1666, 1668, 1670, 1672, 1674, 1676, 1678, 1680, 1682, 1684, 1686, 1688, 1690, 1692, 1694, 1696, 1698, 1700, 1702, 1704, 1706, 1708, 1710, 1712, 1714, 1716, 1718, 1720, 1722, 1724, 1726, 1728, 1730, 1732, 1734, 1736, 1738, 1740, 1742, 1744, 1746, 1748, 1750, 1752, 1754, 1756, 1758, 1760, 1762, 1764, 1766, 1768, 1770, 1772, 1774, 1776, 1778, 1780, 1782, 1784, 1786, 1788, 1790, 1792, 1794, 1796, 1798, 1800, 1802, 1804, 1806, 1808, 1810, 1812, 1814, 1816, 1818, 1820, 1822, 1824, 1826, 1828, 1830, 1832, 1834, 1836, 1838, 1840, 1842, 1844, 1846, 1848, 1850, 1852, 1854, 1856, 1858, 1860, 1862, 1864, 1866, 1868, 1870, 1872, 1874, 1876, 1878, 1880, 1882, 1884, 1886, 1888, 1890, 1892, 1894, 1896, 1898, 1900, 1902, 1904, 1906, 1908, 1910, 1912, 1914, 1916, 1918, 1920, 1922, 1924, 1926, 1928, 1930, 1932, 1934, 1936, 1938, 1940, 1942, 1944, 1946, 1948, 1950, 1952, 1954, 1956, 1958, 1960, 1962, 1964, 1966, 1968, 1970, 1972, 1974, 1976, 1978, 1980, 1982, 1984, 1986, 1988, 1990, 1992, 1994, 1996, 1998, 2000, 2002, 2004, 2006, 2008, 2010, 2012, 2014, 2016, 2018, 2020, 2022, 2024, 2026, 2028, 2030, 2032, 2034, 2036, 2038, 2040, 2042, 2044, 2046, 2048, 2050, 2052, 2054, 2056, 2058, 2060, 2062, 2064, 2066, 2068, 2070, 2072, 2074, 2076, 2078, 2080, 2082, 2084, 2086, 2088, 2090, 2092, 2094, 2096, 2098, 2100, 2102, 2104, 2106, 2108, 2110, 2112, 2114, 2116, 2118, 2120, 2122, 2124, 2126, 2128, 2130, 2132, 2134, 2136, 2138, 2140, 2142, 2144, 2146, 2148, 2150, 2152, 2154, 2156, 2158, 2160, 2162, 2164, 2166, 2168, 2170, 2172, 2174, 2176, 2178, 2180, 2182, 2184, 2186, 2188, 2190, 2192, 2194, 2196, 2198, 2200, 2202, 2204, 2206, 2208, 2210, 2212, 2214, 2216, 2218, 2220, 2222, 2224, 2226, 2228, 2230, 2232, 2234, 2236, 2238, 2240, 2242, 2244, 2246, 2248, 2250, 2252, 2254, 2256, 2258, 2260, 2262, 2264, 2266, 2268, 2270, 2272, 2274, 2276, 2278, 2280, 2282, 2284, 2286, 2288, 2290, 2292, 2294, 2296, 2298, 2300, 2302, 2304, 2306, 2308, 2310, 2312, 2314, 2316, 2318, 2320, 2322, 2324, 2326, 2328, 2330, 2332, 2334, 2336, 2338, 2340, 2342, 2344, 2346, 2348, 2350, 2352, 2354, 2356, 2358, 2360, 2362, 2364, 2366, 2368, 2370, 2372, 2374, 2376, 2378, 2380, 2382, 2384, 2386, 2388, 2390, 2392, 2394, 2396, 2398, 2400, 2402, 2404, 2406, 2408, 2410, 2412, 2414, 2416, 2418, 2420, 2422, 2424, 2426, 2428, 2430, 2432, 2434, 2436, 2438, 2440, 2442, 2444, 2446, 2448, 2450, 2452, 2454, 2456, 2458, 2460, 2462, 2464, 2466, 2468, 2470, 2472, 2474, 2476, 2478, 2480, 2482, 2484, 2486, 2488, 2490, 2492, 2494, 2496, 2498, 2500, 2502, 2504, 2506, 2508, 2510, 2512, 2514, 2516, 2518, 2520, 2522, 2524, 2526, 2528, 2530, 2532, 2534, 2536, 2538, 2540, 2542, 2544, 2546, 2548, 2550, 2552, 2554, 2556, 2558, 2560, 2562, 2564, 2566, 2568, 2570, 2572, 2574, 2576, 2578, 2580, 2582, 2584, 2586, 2588, 2590, 2592, 2594, 2596, 2598, 2600, 2602, 2604, 2606, 2608, 2610, 2612, 2614, 2616, 2618, 2620, 2622, 2624, 2626, 2628, 2630, 2632, 2634, 2636, 2638, 2640, 2642, 2644, 2646, 2648, 2650, 2652, 2654, 2656, 2658, 2660, 2662, 2664, 2666, 2668, 2670, 2672, 2674, 2676, 2678, 2680, 2682, 2684, 2686, 2688, 2690, 2692, 2694, 2696, 2698, 2700, 2702, 2704, 2706, 2708, 2710, 2712, 2714, 2716, 2718, 2720, 2722, 2724, 2726, 2728, 2730, 2732, 2734, 2736, 2738, 2740, 2742, 2744, 2746, 2748, 2750, 2752, 2754, 2756, 2758, 2760, 2762, 2764, 2766, 2768, 2770, 2772, 2774, 2776, 2778, 2780, 2782, 2784, 2786, 2788, 2790, 2792, 2794, 2796, 2798, 2800, 2802, 2804, 2806, 2808, 2810, 2812, 2814, 2816, 2818, 2820, 2822, 2824, 2826, 2828, 2830, 2832, 2834, 2836, 2838, 2840, 2842, 2844, 2846, 2848, 2850, 2852, 2854, 2856, 2858, 2860, 2862, 2864, 2866, 2868, 2870, 2872, 2874, 2876, 2878, 2880, 2882, 2884, 2886, 2888, 2890, 2892, 2894, 2896, 2898, 2900, 2902, 2904, 2906, 2908, 2910, 2912, 2914, 2916, 2918, 2920, 2922, 2924, 2926, 2928, 2930, 2932, 2934, 2936, 2938, 2940, 2942, 2944, 2946, 2948, 2950, 2952, 2954, 2956, 2958, 2960, 2962, 2964, 2966, 2968, 2970, 2972, 2974, 2976, 2978, 2980, 2982, 2984, 2986, 2988, 2990, 2992, 2994, 2996, 2998, 3000]\n"
     ]
    }
   ],
   "source": [
    "def is_even(min, max):\n",
    "  num = min\n",
    "  lst = []\n",
    "  \n",
    "  while(num <= max):\n",
    "    lst.append(num) if (num%2)==0 else None\n",
    "    num += 1\n",
    "  \n",
    "  return lst\n",
    " \n",
    "print(is_even(1000,3000))"
   ]
  },
  {
   "cell_type": "markdown",
   "metadata": {
    "colab_type": "text",
    "id": "f6ERRrP-xpPp"
   },
   "source": [
    "### Exe. 5\n",
    "Faça um programa que mostre os números potência de 2 menores de 10000 da seguinte forma:\n",
    "```\n",
    "0001\n",
    "0002\n",
    "0004\n",
    "0008\n",
    "...\n",
    "8192\n",
    "```"
   ]
  },
  {
   "cell_type": "code",
   "execution_count": 25,
   "metadata": {
    "colab": {
     "autoexec": {
      "startup": false,
      "wait_interval": 0
     },
     "base_uri": "https://localhost:8080/",
     "height": 269
    },
    "colab_type": "code",
    "executionInfo": {
     "elapsed": 473,
     "status": "ok",
     "timestamp": 1523219470491,
     "user": {
      "displayName": "Humberto Neto",
      "photoUrl": "//lh4.googleusercontent.com/-srCUfXbZYXc/AAAAAAAAAAI/AAAAAAAAAAc/5xcjfJpRSRY/s50-c-k-no/photo.jpg",
      "userId": "107907802952684013889"
     },
     "user_tz": 180
    },
    "id": "ecafQsgVxpPq",
    "outputId": "c5b73fac-6c73-4fe7-cd23-bced664be3e6"
   },
   "outputs": [
    {
     "data": {
      "text/plain": [
       "['0001',\n",
       " '0002',\n",
       " '0004',\n",
       " '0008',\n",
       " '0016',\n",
       " '0032',\n",
       " '0064',\n",
       " '0128',\n",
       " '0256',\n",
       " '0512',\n",
       " '1024',\n",
       " '2048',\n",
       " '4096',\n",
       " '8192']"
      ]
     },
     "execution_count": 25,
     "metadata": {
      "tags": []
     },
     "output_type": "execute_result"
    }
   ],
   "source": [
    "def is_power_2(num):\n",
    "  return num != 0 and ((num & (num - 1)) == 0)\n",
    "\n",
    "def num4str(num):\n",
    "  '''Adiciona zeros a esquerda e retorna str'''\n",
    "  num = str(num)\n",
    "  \n",
    "  if (len(num) == 1):\n",
    "    return '000'+num\n",
    "  \n",
    "  elif (len(num) == 2):\n",
    "    return '00'+num\n",
    "  \n",
    "  elif (len(num) == 3):\n",
    "    return '0'+num\n",
    "  \n",
    "  else:\n",
    "    return num\n",
    "\n",
    "def enumerate_power_2(num):\n",
    "  lst = []\n",
    "  for i in range(num+1):\n",
    "    lst.append(num4str(i)) if is_power_2(i) else None\n",
    "  \n",
    "  return lst\n",
    "\n",
    "enumerate_power_2(10000)"
   ]
  },
  {
   "cell_type": "markdown",
   "metadata": {
    "colab_type": "text",
    "id": "n4zCfrtjxpPt"
   },
   "source": [
    "## Exercícios de Programação <a name=\"ExerProgramacao\"></a>"
   ]
  },
  {
   "cell_type": "markdown",
   "metadata": {
    "colab_type": "text",
    "id": "lRsnOJ8NxpPu"
   },
   "source": [
    "### Exe. 1\n",
    "Faça um programa que leia um número inteiro menor que 1000 e imprima a quantidade de centenas, dezenas e unidades do mesmo. Observando os termos no plural a colocação do “e”, da vírgula entre outros.\n",
    "\n",
    "Exemplo:\n",
    "* 326 = 3 centenas, 2 dezenas e 6 unidades\n",
    "* 12 = 1 dezena e 2 unidades\n",
    "\n",
    "Testar com: 326, 300, 100, 320, 310,305, 301, 101, 311, 111, 25, 20, 10, 21, 11, 1, 7 e 16 \n"
   ]
  },
  {
   "cell_type": "code",
   "execution_count": 26,
   "metadata": {
    "colab": {
     "autoexec": {
      "startup": false,
      "wait_interval": 0
     },
     "base_uri": "https://localhost:8080/",
     "height": 341
    },
    "colab_type": "code",
    "executionInfo": {
     "elapsed": 659,
     "status": "ok",
     "timestamp": 1523219474806,
     "user": {
      "displayName": "Humberto Neto",
      "photoUrl": "//lh4.googleusercontent.com/-srCUfXbZYXc/AAAAAAAAAAI/AAAAAAAAAAc/5xcjfJpRSRY/s50-c-k-no/photo.jpg",
      "userId": "107907802952684013889"
     },
     "user_tz": 180
    },
    "id": "ZBs1jjuqxpPu",
    "outputId": "2a4a0052-ecb3-4ab1-f6cd-bfb606ca3b14"
   },
   "outputs": [
    {
     "name": "stdout",
     "output_type": "stream",
     "text": [
      "326 = 3 centenas, 2 dezenas e 6 unidades\n",
      "300 = 3 centenas\n",
      "100 = 1 centena\n",
      "320 = 3 centenas, 2 dezenas\n",
      "310 = 3 centenas, 1 dezena\n",
      "305 = 3 centenas e 5 unidades\n",
      "301 = 3 centenas e 1 unidade\n",
      "101 = 1 centena e 1 unidade\n",
      "311 = 3 centenas, 1 dezena e 1 unidade\n",
      "111 = 1 centena, 1 dezena e 1 unidade\n",
      "25 = 2 dezenas e 5 unidades\n",
      "20 = 2 dezenas\n",
      "10 = 1 dezena\n",
      "21 = 2 dezenas e 1 unidade\n",
      "11 = 1 dezena e 1 unidade\n",
      "1 = 1 unidade\n",
      "7 = 7 unidades\n",
      "16 = 1 dezena e 6 unidades\n"
     ]
    }
   ],
   "source": [
    "def num_content(num):\n",
    "  hundreds = int(num/100)\n",
    "  num2 = num - 100*hundreds\n",
    "  dozens = int(num2/10)\n",
    "  units = num2%10\n",
    "  \n",
    "  string = str(num)+' = '\n",
    "  \n",
    "  if hundreds != 0: \n",
    "    string += str(hundreds)+' centena' if  hundreds == 1 else str(hundreds)+' centenas'\n",
    "    \n",
    "  if dozens != 0: \n",
    "    if (hundreds>0):\n",
    "      string += ', '+str(dozens)+' dezena' if  dozens == 1 else ', '+str(dozens)+' dezenas'\n",
    "      \n",
    "    else:\n",
    "      string += str(dozens)+' dezena' if  dozens == 1 else str(dozens)+' dezenas'\n",
    "    \n",
    "  if units != 0:\n",
    "    if (hundreds>0 or dozens>0):\n",
    "      string += ' e '+str(units)+' unidade' if  units == 1 else ' e '+str(units)+' unidades'\n",
    "      \n",
    "    else:\n",
    "      string += str(units)+' unidade' if  units == 1 else str(units)+' unidades'\n",
    "\n",
    "  print(string)\n",
    "\n",
    "lst = [326, 300, 100, 320, 310,305, 301, 101, 311, 111, 25, 20, 10, 21, 11, 1, 7,16]\n",
    "for i in lst:\n",
    "  num_content(i)"
   ]
  },
  {
   "cell_type": "markdown",
   "metadata": {
    "colab_type": "text",
    "id": "axiCWbetxpPx"
   },
   "source": [
    "### Exe. 2\n",
    "Faça um programa que mostre os $n$ termos da Série a seguir: \n",
    "$$\n",
    "S = \\frac{1}{1} + \\frac{2}{3} + \\frac{3}{5} + \\frac{4}{7} + \\frac{5}{9} + ... + \\frac{n}{m}. \n",
    "$$\n",
    "Imprima no final a soma da série. "
   ]
  },
  {
   "cell_type": "code",
   "execution_count": 27,
   "metadata": {
    "colab": {
     "autoexec": {
      "startup": false,
      "wait_interval": 0
     },
     "base_uri": "https://localhost:8080/",
     "height": 737
    },
    "colab_type": "code",
    "executionInfo": {
     "elapsed": 607,
     "status": "ok",
     "timestamp": 1523219479513,
     "user": {
      "displayName": "Humberto Neto",
      "photoUrl": "//lh4.googleusercontent.com/-srCUfXbZYXc/AAAAAAAAAAI/AAAAAAAAAAc/5xcjfJpRSRY/s50-c-k-no/photo.jpg",
      "userId": "107907802952684013889"
     },
     "user_tz": 180
    },
    "id": "cxav2c7gxpPx",
    "outputId": "3cafff99-30a6-4196-dcd6-53197d33255a"
   },
   "outputs": [
    {
     "name": "stdout",
     "output_type": "stream",
     "text": [
      "S = 1/1\n",
      "S = 1.0\n",
      "\n",
      "\n",
      "S = 1/1 + 2/3\n",
      "S = 1.6666666666666665\n",
      "\n",
      "\n",
      "S = 1/1 + 2/3 + 3/5\n",
      "S = 2.2666666666666666\n",
      "\n",
      "\n",
      "S = 1/1 + 2/3 + 3/5 + 4/7\n",
      "S = 2.838095238095238\n",
      "\n",
      "\n",
      "S = 1/1 + 2/3 + 3/5 + 4/7 + 5/9\n",
      "S = 3.393650793650793\n",
      "\n",
      "\n",
      "S = 1/1 + 2/3 + 3/5 + 4/7 + 5/9 + 6/11\n",
      "S = 3.9391053391053386\n",
      "\n",
      "\n",
      "S = 1/1 + 2/3 + 3/5 + 4/7 + 5/9 + 6/11 + 7/13\n",
      "S = 4.477566877566877\n",
      "\n",
      "\n",
      "S = 1/1 + 2/3 + 3/5 + 4/7 + 5/9 + 6/11 + 7/13 + 8/15\n",
      "S = 5.0109002109002105\n",
      "\n",
      "\n",
      "S = 1/1 + 2/3 + 3/5 + 4/7 + 5/9 + 6/11 + 7/13 + 8/15 + 9/17\n",
      "S = 5.540311975606093\n",
      "\n",
      "\n",
      "S = 1/1 + 2/3 + 3/5 + 4/7 + 5/9 + 6/11 + 7/13 + 8/15 + 9/17 + 10/19\n",
      "S = 6.066627765079777\n",
      "\n",
      "\n"
     ]
    }
   ],
   "source": [
    "def find_odd(num):\n",
    "  lst = []\n",
    "  i=1\n",
    "  \n",
    "  while len(lst) < num:\n",
    "    lst.append(i) if (i%2)==1 else None\n",
    "    i += 1\n",
    "  \n",
    "  return lst\n",
    "\n",
    "def serie(num):\n",
    "  odds = find_odd(num)\n",
    "  soma = 0\n",
    "  equation = 'S = '\n",
    "  \n",
    "  for n in range(num):\n",
    "    if n!=0:\n",
    "      equation += ' + '\n",
    "      \n",
    "    equation += str(n+1)+'/'+str(odds[n])\n",
    "    soma += (n+1)/odds[n]\n",
    "\n",
    "  print(equation)\n",
    "  return soma\n",
    "\n",
    "for i in range(10):\n",
    "  print('S = {}'.format(serie(i+1)))\n",
    "  print('\\n')"
   ]
  },
  {
   "cell_type": "markdown",
   "metadata": {
    "colab_type": "text",
    "id": "mdJyzEMxxpP1"
   },
   "source": [
    "### Exe. 3\n",
    "Escreva uma função que, dada uma lista de inteiros não negativos, organize seus elementos de tal forma que eles formem o maior número possível. Por exemplo, dado [50, 2, 1, 9], o maior número formado é 95021."
   ]
  },
  {
   "cell_type": "code",
   "execution_count": 2,
   "metadata": {
    "colab": {
     "autoexec": {
      "startup": false,
      "wait_interval": 0
     },
     "base_uri": "https://localhost:8080/",
     "height": 35
    },
    "colab_type": "code",
    "executionInfo": {
     "elapsed": 672,
     "status": "ok",
     "timestamp": 1523220864306,
     "user": {
      "displayName": "Humberto Neto",
      "photoUrl": "//lh4.googleusercontent.com/-srCUfXbZYXc/AAAAAAAAAAI/AAAAAAAAAAc/5xcjfJpRSRY/s50-c-k-no/photo.jpg",
      "userId": "107907802952684013889"
     },
     "user_tz": 180
    },
    "id": "-IfdXaZExpP2",
    "outputId": "cba39a16-58fd-44df-abec-cf5ab51b5565"
   },
   "outputs": [
    {
     "data": {
      "text/plain": [
       "95021"
      ]
     },
     "execution_count": 2,
     "metadata": {
      "tags": []
     },
     "output_type": "execute_result"
    }
   ],
   "source": [
    "def sort_numbers(lst):\n",
    "  new_lst = []\n",
    "  for i in lst:\n",
    "    new_lst.append(str(i))\n",
    "    \n",
    "  string = sorted(new_lst, reverse=True)\n",
    "  return int(''.join(str(e) for e in string))\n",
    "  \n",
    "lst =  [50, 2, 1, 9]\n",
    "sort_numbers(lst)\n",
    "  \n"
   ]
  },
  {
   "cell_type": "markdown",
   "metadata": {
    "colab_type": "text",
    "id": "cT_b6WwCxpP3"
   },
   "source": [
    "### Exe. 4\n",
    "Escreva um programa que imprima todas as possibilidades para colocar + ou - ou nada entre os números 1, 2, ..., 9 (nesta ordem) de forma que o resultado seja sempre 100. Por exemplo: 1 + 2 + 34 - 5 + 67 - 8 + 9 = 100."
   ]
  },
  {
   "cell_type": "code",
   "execution_count": 42,
   "metadata": {
    "colab": {
     "autoexec": {
      "startup": false,
      "wait_interval": 0
     },
     "base_uri": "https://localhost:8080/",
     "height": 215
    },
    "colab_type": "code",
    "executionInfo": {
     "elapsed": 661,
     "status": "ok",
     "timestamp": 1523220434454,
     "user": {
      "displayName": "Humberto Neto",
      "photoUrl": "//lh4.googleusercontent.com/-srCUfXbZYXc/AAAAAAAAAAI/AAAAAAAAAAc/5xcjfJpRSRY/s50-c-k-no/photo.jpg",
      "userId": "107907802952684013889"
     },
     "user_tz": 180
    },
    "id": "4S6C-MNQxfkh",
    "outputId": "4991c3fd-de2e-416c-d95e-5ed0c3815be2"
   },
   "outputs": [
    {
     "name": "stdout",
     "output_type": "stream",
     "text": [
      "123-45-67+89==100\n",
      "12-3-4+5-6+7+89==100\n",
      "12+3+4+5-6-7+89==100\n",
      "123+4-5+67-89==100\n",
      "1+2+3-4+5+6+78+9==100\n",
      "12+3-4+5+67+8+9==100\n",
      "1+23-4+56+7+8+9==100\n",
      "1+2+34-5+67-8+9==100\n",
      "1+23-4+5+6+78-9==100\n",
      "123+45-67+8-9==100\n",
      "123-4-5-6-7+8-9==100\n"
     ]
    }
   ],
   "source": [
    "option = lambda j:''.join([(str(i+1)+['','+','-'][j // 3 ** i % 3]) for i in range(9)]) + '==100'\n",
    "\n",
    "print('\\n'.join([option(j) for j in range(3**8) if eval(option(j))]))"
   ]
  },
  {
   "cell_type": "markdown",
   "metadata": {
    "colab_type": "text",
    "id": "HLjooK7rxpP5"
   },
   "source": [
    "### Exe. 5\n",
    "Um site exige que para se registrar os usuários devem inserir o nome de usuário e a senha. \n",
    "Escreva um programa para verificar a validade da entrada da senha do usuário, considerando os seguintes critérios:\n",
    "1. Pelo menos 1 letra minúscula entre \\[a-z\\]\n",
    "1. Pelo menos 1 número entre \\[0-9\\]\n",
    "1. Pelo menos uma letra maiúscula entre \\[A-Z\\]\n",
    "1. Pelo menos 1 caractere de \\[\\$ \\# \\@\\]\n",
    "1. Comprimento mínimo da senha: 6\n",
    "1. Comprimento máximo da senha: 12\n",
    "\n",
    "<br/> Seu programa deve aceitar uma seqüência de senhas separadas por vírgulas e verificá-las de acordo com os critérios acima. As senhas que correspondem aos critérios devem ser impressas, cada uma separada por uma vírgula.\n",
    "\n",
    "<br/> Exemplo.\n",
    "<br/> Se as seguintes senhas são dadas como entrada para o programa:\n",
    "<br/> ABd1234 @ 1, um F1 #, 2w3E *, 2We3345\n",
    "<br/> Em seguida, a saída do programa deve ser:\n",
    "<br/> ABd1234 @ 1"
   ]
  },
  {
   "cell_type": "code",
   "execution_count": 43,
   "metadata": {
    "colab": {
     "autoexec": {
      "startup": false,
      "wait_interval": 0
     },
     "base_uri": "https://localhost:8080/",
     "height": 35
    },
    "colab_type": "code",
    "executionInfo": {
     "elapsed": 31606,
     "status": "ok",
     "timestamp": 1523220469009,
     "user": {
      "displayName": "Humberto Neto",
      "photoUrl": "//lh4.googleusercontent.com/-srCUfXbZYXc/AAAAAAAAAAI/AAAAAAAAAAc/5xcjfJpRSRY/s50-c-k-no/photo.jpg",
      "userId": "107907802952684013889"
     },
     "user_tz": 180
    },
    "id": "WwwlMFZuxpP6",
    "outputId": "a401658f-141f-4e7b-d645-310d33157a7f"
   },
   "outputs": [
    {
     "name": "stdout",
     "output_type": "stream",
     "text": [
      "['ABd1234@1', 'aB6*s5']\n"
     ]
    }
   ],
   "source": [
    "import re\n",
    "\n",
    "def is_valid(string):\n",
    "  return True if len(string)>=6 and len(string)<=12 and bool(re.search('[^a-zA-Z0-9]', string)) else False\n",
    "\n",
    "\n",
    "def password(string):\n",
    "  string = string.replace(\" \", \"\")\n",
    "  string = string.split(',')\n",
    "  valid_pass = []\n",
    "\n",
    "  for word in string:\n",
    "    valid_pass.append(word) if is_valid(word) else None\n",
    "    \n",
    "  return valid_pass\n",
    "\n",
    "string = 'ABd1234@1, umF1#, 2w3E*, 2We3345, aB6*s5'\n",
    "print(password(string))"
   ]
  },
  {
   "cell_type": "markdown",
   "metadata": {
    "colab_type": "text",
    "id": "jYM-n1HqxpP8"
   },
   "source": [
    "### Exe. 6\n",
    "Um robô se move num plano partindo do ponto original (0,0). \n",
    "O robô pode-se mover nas direções ACIMA, ABAIXO, ESQUERDA e DIREITA, tal que, em cada direção pode-se deslocar um número determinado de passos. \n",
    "Por exemplo, podemos descrever o movimento do robô como:\n",
    "<br/>UP 5\n",
    "<br/>DOWN 3\n",
    "<br/>ESQUERDA 3\n",
    "<br/>RIGHT 2\n",
    "<br/>Onde, os números após a direção são os passos. \n",
    "\n",
    "Escreva um programa para calcular a distância da posição atual após uma seqüência de movimento a partir do ponto original.\n",
    "Se a distância for um float, basta imprimir o número inteiro mais próximo.\n",
    "\n",
    "<br/> Exemplo:\n",
    "<br/> Se as seguintes tuplas são dadas como entrada para o programa:\n",
    "<br/> [('UP',5),('DOWN',3),('ESQUERDA',3),('RIGHT',2)]\n",
    "<br/> Em seguida, a saída do programa deve ser:\n",
    "<br/> 3"
   ]
  },
  {
   "cell_type": "code",
   "execution_count": 31,
   "metadata": {
    "colab": {
     "autoexec": {
      "startup": false,
      "wait_interval": 0
     },
     "base_uri": "https://localhost:8080/",
     "height": 35
    },
    "colab_type": "code",
    "executionInfo": {
     "elapsed": 643,
     "status": "ok",
     "timestamp": 1523219514360,
     "user": {
      "displayName": "Humberto Neto",
      "photoUrl": "//lh4.googleusercontent.com/-srCUfXbZYXc/AAAAAAAAAAI/AAAAAAAAAAc/5xcjfJpRSRY/s50-c-k-no/photo.jpg",
      "userId": "107907802952684013889"
     },
     "user_tz": 180
    },
    "id": "MeAF6pk5xpP8",
    "outputId": "8c399ef4-30dc-4d5e-c5b1-944e6ecc5d71"
   },
   "outputs": [
    {
     "data": {
      "text/plain": [
       "3"
      ]
     },
     "execution_count": 31,
     "metadata": {
      "tags": []
     },
     "output_type": "execute_result"
    }
   ],
   "source": [
    "class Robot(object):\n",
    "  def __init__(self):\n",
    "    self.pos = [0,0]\n",
    "    \n",
    "  def up(self, num):\n",
    "    self.pos[1] += num\n",
    "    \n",
    "  def down(self, num):\n",
    "    self.pos[1] -= num\n",
    "    \n",
    "  def right(self, num):\n",
    "    self.pos[0] += num\n",
    "    \n",
    "  def left(self, num):\n",
    "    self.pos[0] -= num\n",
    "    \n",
    "  def position(self):\n",
    "    return self.pos\n",
    "  \n",
    "  def distance(self):\n",
    "    return sum(map(abs, self.pos))\n",
    "    \n",
    "\n",
    "robot = Robot()\n",
    "\n",
    "robot.up(5)\n",
    "robot.down(3)\n",
    "robot.right(2)\n",
    "robot.left(3)\n",
    "robot.distance()    "
   ]
  }
 ],
 "metadata": {
  "accelerator": "GPU",
  "colab": {
   "collapsed_sections": [],
   "default_view": {},
   "name": "DL_LISTA_PYTHON_HSN.ipynb",
   "provenance": [],
   "version": "0.3.2",
   "views": {}
  },
  "kernelspec": {
   "display_name": "Python 3",
   "language": "python",
   "name": "python3"
  },
  "language_info": {
   "codemirror_mode": {
    "name": "ipython",
    "version": 3
   },
   "file_extension": ".py",
   "mimetype": "text/x-python",
   "name": "python",
   "nbconvert_exporter": "python",
   "pygments_lexer": "ipython3",
   "version": "3.5.2"
  }
 },
 "nbformat": 4,
 "nbformat_minor": 1
}
