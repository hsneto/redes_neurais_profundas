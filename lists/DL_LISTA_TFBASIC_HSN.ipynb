{
  "nbformat": 4,
  "nbformat_minor": 0,
  "metadata": {
    "colab": {
      "name": "DL_LISTA_TFBASIC_HSN",
      "version": "0.3.2",
      "views": {},
      "default_view": {},
      "provenance": [],
      "collapsed_sections": []
    },
    "kernelspec": {
      "display_name": "Python 3",
      "language": "python",
      "name": "python3"
    },
    "accelerator": "GPU"
  },
  "cells": [
    {
      "metadata": {
        "id": "ePI0jxH80_re",
        "colab_type": "text"
      },
      "cell_type": "markdown",
      "source": [
        "# Lista de exercícios sobre TensorFlow - Funcionamento Básico"
      ]
    },
    {
      "metadata": {
        "id": "lib6GP3U0_rf",
        "colab_type": "text"
      },
      "cell_type": "markdown",
      "source": [
        "**Disciplina**: Introdução a redes neurais profundas 2018/1  \n",
        "**Professor**: Jorge Leonid Aching Samatelo"
      ]
    },
    {
      "metadata": {
        "id": "8j4ng8X90_rh",
        "colab_type": "text"
      },
      "cell_type": "markdown",
      "source": [
        "**Aluno**: Humberto da Silva Neto"
      ]
    },
    {
      "metadata": {
        "id": "VkPrDQb40_rh",
        "colab_type": "text"
      },
      "cell_type": "markdown",
      "source": [
        "## Tabela de conteúdos\n",
        "1. [Indicações](#indicacoes)\n",
        "1. [Exercícios sobre Sessões](#exerSessoes)\n",
        "1. [Exercícios sobre Tensores](#exerTensores)"
      ]
    },
    {
      "metadata": {
        "id": "Dhrdypz10_rj",
        "colab_type": "text"
      },
      "cell_type": "markdown",
      "source": [
        "## Indicações <a name=\"indicacoes\"></a>\n",
        "\n",
        "### Considerações\n",
        "* Cada aluno enviará por e-mail a solução dos exercícios propostos, tais soluções devem ser inseridas neste mesmo arquivo. \n",
        "* Para saber cómo trabalhar com arquivos `*.ipynb` é necessario ler os slides NOME ARQUIVO.\n",
        "\n",
        "### Prazo\n",
        "* Envio das soluções: Domingo 13/05/2018 - (11:59 pm) \n",
        "\n",
        "### Procedimento para o envio das soluções\n",
        "* O arquivo `*.ipynb` com as soluções dos exercícios deve ser enviado ao email <jlasam001@gmail.com> com o assunto: `LISTA_EXERCICIO_TFBASIC_2018_1`. \n",
        "* O nome do arquivo `*.ipynb` deve iniciar com o rotulo `DL_LISTA_TFBASIC` seguido pelas iniciais do nome do aluno que soluciono os exercícios (por exemplo, o aluno Pedro Farias enviara o arquivo `DL_LISTA_TFBASIC_PF.ipynb`).\n",
        "\n",
        "### Dicas execução\n",
        "* Carregue todos os pacotes que serão necessários no início do arquivo.\n",
        "* Entre um exercício e outro, utilize um grafo diferente ou então reínicie o grafo padrão.\n",
        "* Para executar comandos da shell dentro do notebook, utilize o prefixo `!` antes do comando de shell. (e.g. para listar os arquivos da pasta atual faça `! ls` para UNIX ou `! dir` para Windows."
      ]
    },
    {
      "metadata": {
        "id": "oNnxNIuL0_rk",
        "colab_type": "code",
        "colab": {
          "autoexec": {
            "startup": false,
            "wait_interval": 0
          }
        }
      },
      "cell_type": "code",
      "source": [
        "import tensorflow as tf\n",
        "import numpy as np\n",
        "import matplotlib.pyplot as plt"
      ],
      "execution_count": 0,
      "outputs": []
    },
    {
      "metadata": {
        "id": "RpVPBmC10_rp",
        "colab_type": "text"
      },
      "cell_type": "markdown",
      "source": [
        "## Exercícios sobre sessões <a name=\"exerSessoes\"></a>"
      ]
    },
    {
      "metadata": {
        "id": "GX7sFgt80_rq",
        "colab_type": "text"
      },
      "cell_type": "markdown",
      "source": [
        "### Exe. 1"
      ]
    },
    {
      "metadata": {
        "id": "OmEufr6Y0_rq",
        "colab_type": "text"
      },
      "cell_type": "markdown",
      "source": [
        "Faça um grafo que tenha duas constantes (`tf.constants`) e uma operação de multiplicação. Imprima as imprima as operações criadas (fora de uma sessão).  \n",
        "**Dica**: Você não obterá o valor numerico das operações, mas sim a definição dos tensores."
      ]
    },
    {
      "metadata": {
        "id": "A1wTS05R0_rs",
        "colab_type": "code",
        "colab": {
          "autoexec": {
            "startup": false,
            "wait_interval": 0
          },
          "base_uri": "https://localhost:8080/",
          "height": 68
        },
        "outputId": "5c2a3ac8-9577-4cec-b2a4-e2ef1e0a5556",
        "executionInfo": {
          "status": "ok",
          "timestamp": 1526835820964,
          "user_tz": 180,
          "elapsed": 849,
          "user": {
            "displayName": "Humberto Neto",
            "photoUrl": "//lh4.googleusercontent.com/-srCUfXbZYXc/AAAAAAAAAAI/AAAAAAAAADA/2W9r0vbMnjA/s50-c-k-no/photo.jpg",
            "userId": "107907802952684013889"
          }
        }
      },
      "cell_type": "code",
      "source": [
        "a = tf.constant([2])\n",
        "b = tf.constant([3])\n",
        "\n",
        "mul = tf.multiply(a,b)\n",
        "\n",
        "print(a)\n",
        "print(b)\n",
        "print(mul)"
      ],
      "execution_count": 2,
      "outputs": [
        {
          "output_type": "stream",
          "text": [
            "Tensor(\"Const:0\", shape=(1,), dtype=int32)\n",
            "Tensor(\"Const_1:0\", shape=(1,), dtype=int32)\n",
            "Tensor(\"Mul:0\", shape=(1,), dtype=int32)\n"
          ],
          "name": "stdout"
        }
      ]
    },
    {
      "metadata": {
        "id": "0Atw9Y9i0_rz",
        "colab_type": "text"
      },
      "cell_type": "markdown",
      "source": [
        "### Exe. 2"
      ]
    },
    {
      "metadata": {
        "id": "4QsKAGMK0_r0",
        "colab_type": "text"
      },
      "cell_type": "markdown",
      "source": [
        "Avalie o resultado da multiplicação com uma sessão interativa (`tf.InteractiveSession`).  \n",
        "Note que é necessário fechar a sessão com o método `close` da sessão para que ela libere a memória usada."
      ]
    },
    {
      "metadata": {
        "id": "i41peM7Y0_r1",
        "colab_type": "code",
        "colab": {
          "autoexec": {
            "startup": false,
            "wait_interval": 0
          },
          "base_uri": "https://localhost:8080/",
          "height": 34
        },
        "outputId": "e39499e2-855c-4407-f0c3-1e3fceb0ae9b",
        "executionInfo": {
          "status": "ok",
          "timestamp": 1526835822047,
          "user_tz": 180,
          "elapsed": 1000,
          "user": {
            "displayName": "Humberto Neto",
            "photoUrl": "//lh4.googleusercontent.com/-srCUfXbZYXc/AAAAAAAAAAI/AAAAAAAAADA/2W9r0vbMnjA/s50-c-k-no/photo.jpg",
            "userId": "107907802952684013889"
          }
        }
      },
      "cell_type": "code",
      "source": [
        "sess = tf.InteractiveSession()\n",
        "print(sess.run(mul))\n",
        "sess.close()"
      ],
      "execution_count": 3,
      "outputs": [
        {
          "output_type": "stream",
          "text": [
            "[6]\n"
          ],
          "name": "stdout"
        }
      ]
    },
    {
      "metadata": {
        "id": "RP1qg9xT0_r8",
        "colab_type": "text"
      },
      "cell_type": "markdown",
      "source": [
        "### Exe. 3"
      ]
    },
    {
      "metadata": {
        "id": "O7-zvbjr0_r8",
        "colab_type": "text"
      },
      "cell_type": "markdown",
      "source": [
        "Avalie agora o resultado da multiplicação com uma sessão em um bloco `with tf.Session() as sess:`.  \n",
        "Note que nesse método a sessão é fechada automaticamente para você."
      ]
    },
    {
      "metadata": {
        "id": "8rwBaf_v0_r8",
        "colab_type": "code",
        "colab": {
          "autoexec": {
            "startup": false,
            "wait_interval": 0
          },
          "base_uri": "https://localhost:8080/",
          "height": 34
        },
        "outputId": "790da5c0-f4ae-4509-93f5-7cfb4ce36a1d",
        "executionInfo": {
          "status": "ok",
          "timestamp": 1526835822818,
          "user_tz": 180,
          "elapsed": 659,
          "user": {
            "displayName": "Humberto Neto",
            "photoUrl": "//lh4.googleusercontent.com/-srCUfXbZYXc/AAAAAAAAAAI/AAAAAAAAADA/2W9r0vbMnjA/s50-c-k-no/photo.jpg",
            "userId": "107907802952684013889"
          }
        }
      },
      "cell_type": "code",
      "source": [
        "with tf.Session() as sess:\n",
        "  print(sess.run(mul))"
      ],
      "execution_count": 4,
      "outputs": [
        {
          "output_type": "stream",
          "text": [
            "[6]\n"
          ],
          "name": "stdout"
        }
      ]
    },
    {
      "metadata": {
        "id": "i8gmKKDV0_sA",
        "colab_type": "text"
      },
      "cell_type": "markdown",
      "source": [
        "### Exe. 4\n",
        "\n",
        "Visualize as operações criadas dentro do grafo usando o tensorboard. Para isso utilize\n"
      ]
    },
    {
      "metadata": {
        "id": "NogHYfLi0_sB",
        "colab_type": "code",
        "colab": {
          "autoexec": {
            "startup": false,
            "wait_interval": 0
          }
        }
      },
      "cell_type": "code",
      "source": [
        "# tf.summary.FileWriter('logs', tf.get_default_graph()).close()"
      ],
      "execution_count": 0,
      "outputs": []
    },
    {
      "metadata": {
        "id": "L4u97kdV0_sC",
        "colab_type": "code",
        "colab": {
          "autoexec": {
            "startup": false,
            "wait_interval": 0
          }
        }
      },
      "cell_type": "code",
      "source": [
        "#inserir tua solução aqui"
      ],
      "execution_count": 0,
      "outputs": []
    },
    {
      "metadata": {
        "id": "WJqpJRDQ0_sF",
        "colab_type": "text"
      },
      "cell_type": "markdown",
      "source": [
        "## Exercícios sobre tensores <a name=\"exerTensores\"></a>"
      ]
    },
    {
      "metadata": {
        "id": "Qkxv2a5_0_sF",
        "colab_type": "text"
      },
      "cell_type": "markdown",
      "source": [
        "### Exe. 5"
      ]
    },
    {
      "metadata": {
        "id": "xPsMeOBT0_sG",
        "colab_type": "text"
      },
      "cell_type": "markdown",
      "source": [
        "Crie duas matrizes quadradas `A` e `B`, de mesma ordem, utilizando `np.array`. Crie, a partir delas, constantes em TensorFlow e realize o produto matricial `C = A*B`. Verifique as dimensões do resultado com `tf.shape`. \n",
        "\n",
        "Calcule ainda o determinantes delas e verifique que `det(C) = det(A)det(B)`"
      ]
    },
    {
      "metadata": {
        "id": "D_Gp3u1q0_sG",
        "colab_type": "code",
        "colab": {
          "autoexec": {
            "startup": false,
            "wait_interval": 0
          },
          "base_uri": "https://localhost:8080/",
          "height": 153
        },
        "outputId": "9469f624-77aa-4c81-e9db-2a739e55fbe9",
        "executionInfo": {
          "status": "ok",
          "timestamp": 1526835824939,
          "user_tz": 180,
          "elapsed": 620,
          "user": {
            "displayName": "Humberto Neto",
            "photoUrl": "//lh4.googleusercontent.com/-srCUfXbZYXc/AAAAAAAAAAI/AAAAAAAAADA/2W9r0vbMnjA/s50-c-k-no/photo.jpg",
            "userId": "107907802952684013889"
          }
        }
      },
      "cell_type": "code",
      "source": [
        "A = tf.constant(np.array([[1.,2],[3,4]]))\n",
        "\n",
        "B = tf.constant(np.array([[5.,6],[7,8]]))\n",
        "\n",
        "# C = A*B\n",
        "C = tf.matmul(A,B)\n",
        "\n",
        "def det(X):\n",
        "  return tf.matrix_determinant(X)\n",
        "\n",
        "with tf.Session() as sess:\n",
        "  print('Matric C:\\n',sess.run(C))\n",
        "  print('C.shape: ', C.shape)\n",
        "  print('')\n",
        "  print('det(A): ', sess.run(det(A)))\n",
        "  print('det(B): ',sess.run(det(B)))\n",
        "  print('det(C): ',sess.run(det(C)))"
      ],
      "execution_count": 7,
      "outputs": [
        {
          "output_type": "stream",
          "text": [
            "Matric C:\n",
            " [[19. 22.]\n",
            " [43. 50.]]\n",
            "C.shape:  (2, 2)\n",
            "\n",
            "det(A):  -2.0000000000000004\n",
            "det(B):  -1.999999999999999\n",
            "det(C):  4.000000000000017\n"
          ],
          "name": "stdout"
        }
      ]
    },
    {
      "metadata": {
        "id": "VSAjj1Fu0_sL",
        "colab_type": "text"
      },
      "cell_type": "markdown",
      "source": [
        "### Exe. 6"
      ]
    },
    {
      "metadata": {
        "id": "oIYe-czs0_sL",
        "colab_type": "text"
      },
      "cell_type": "markdown",
      "source": [
        "Crie tensores com valores aleatórios com as distribuições:\n",
        "\n",
        "1) Uniforme, com valores entre -1 e 1;\n",
        "\n",
        "2) Normal, com média 0 e desvio padrão 1;\n",
        "\n",
        "Ambos com `shape = [50,1]` e plote os histogramas de seus valores. Utilize 10 bins em ambos os casos."
      ]
    },
    {
      "metadata": {
        "id": "NEEjhbRodb61",
        "colab_type": "code",
        "colab": {
          "autoexec": {
            "startup": false,
            "wait_interval": 0
          },
          "base_uri": "https://localhost:8080/",
          "height": 347
        },
        "outputId": "4b3a6834-d6cd-49a3-9f3f-77dab68ca2f5",
        "executionInfo": {
          "status": "ok",
          "timestamp": 1526835825901,
          "user_tz": 180,
          "elapsed": 900,
          "user": {
            "displayName": "Humberto Neto",
            "photoUrl": "//lh4.googleusercontent.com/-srCUfXbZYXc/AAAAAAAAAAI/AAAAAAAAADA/2W9r0vbMnjA/s50-c-k-no/photo.jpg",
            "userId": "107907802952684013889"
          }
        }
      },
      "cell_type": "code",
      "source": [
        "#The uniform variable is a 1-dimensional tensor, the elements 100, containing\n",
        "#values ranging from 0 to 1, distributed with the same probability:\n",
        "shape = [50,1]\n",
        "\n",
        "uniform = tf.random_uniform(shape,minval=-1,maxval=1) \n",
        "normal = tf.random_normal(shape, mean=0, stddev=1)\n",
        "\n",
        "with tf.Session() as sess: \n",
        "    uniform_hist = sess.run(uniform)\n",
        "    normal_hist = sess.run(uniform)\n",
        "    \n",
        "    plt.hist(uniform_hist,normed=True, bins=10, alpha=.5, label='uniform', color='b') \n",
        "    plt.hist(normal_hist,normed=True, bins=10, alpha=.5, label='normal', color='y')\n",
        "    plt.legend()\n",
        "    plt.show()"
      ],
      "execution_count": 8,
      "outputs": [
        {
          "output_type": "display_data",
          "data": {
            "image/png": "[encoded data removed]",
            "text/plain": [
              "<matplotlib.figure.Figure at 0x7f22ea94f668>"
            ]
          },
          "metadata": {
            "tags": []
          }
        }
      ]
    },
    {
      "metadata": {
        "id": "cj5dBeCz0_sQ",
        "colab_type": "text"
      },
      "cell_type": "markdown",
      "source": [
        "### Exe. 7"
      ]
    },
    {
      "metadata": {
        "id": "aLhrkvbI0_sS",
        "colab_type": "text"
      },
      "cell_type": "markdown",
      "source": [
        "Faça um grafo que calcule os pontos de uma senóide para ser plotada no intervalo `[0,2*pi]`. A equação da senóide é da forma `y = A*sin(w*t)`. Crie nós de entrada `A` e `w` para que os parâmetros sejam recebidos em tempo de execução. "
      ]
    },
    {
      "metadata": {
        "id": "JPMIro9sgdTG",
        "colab_type": "code",
        "colab": {
          "autoexec": {
            "startup": false,
            "wait_interval": 0
          },
          "base_uri": "https://localhost:8080/",
          "height": 364
        },
        "outputId": "86976771-790a-4458-a776-e31f59862a19",
        "executionInfo": {
          "status": "ok",
          "timestamp": 1526835826868,
          "user_tz": 180,
          "elapsed": 868,
          "user": {
            "displayName": "Humberto Neto",
            "photoUrl": "//lh4.googleusercontent.com/-srCUfXbZYXc/AAAAAAAAAAI/AAAAAAAAADA/2W9r0vbMnjA/s50-c-k-no/photo.jpg",
            "userId": "107907802952684013889"
          }
        }
      },
      "cell_type": "code",
      "source": [
        "from math import pi\n",
        "\n",
        "wt = np.linspace(0.0,1.0,1000000)*2*pi\n",
        "\n",
        "A = tf.placeholder(tf.float32)\n",
        "w = tf.placeholder(tf.float32)\n",
        "y = A*tf.sin(w)\n",
        "\n",
        "\n",
        "with tf.Session() as sess:\n",
        "  output = sess.run(y, feed_dict={A:3., w:wt})\n",
        "\n",
        "plt.plot(wt, output)"
      ],
      "execution_count": 9,
      "outputs": [
        {
          "output_type": "execute_result",
          "data": {
            "text/plain": [
              "[<matplotlib.lines.Line2D at 0x7f22a304f5c0>]"
            ]
          },
          "metadata": {
            "tags": []
          },
          "execution_count": 9
        },
        {
          "output_type": "display_data",
          "data": {
            "image/png": "[encoded data removed]",
            "text/plain": [
              "<matplotlib.figure.Figure at 0x7f22ad1f6f60>"
            ]
          },
          "metadata": {
            "tags": []
          }
        }
      ]
    },
    {
      "metadata": {
        "id": "BamuJyD_0_sX",
        "colab_type": "text"
      },
      "cell_type": "markdown",
      "source": [
        "### Exe. 8"
      ]
    },
    {
      "metadata": {
        "id": "QDjBPKKV0_sX",
        "colab_type": "text"
      },
      "cell_type": "markdown",
      "source": [
        "O método de Montecarlo é um método numérico probabilístico muito utilizado em computação. Uma das aplicações é calcular aproximadamente o valor de $\\pi$. Para fazer isto, a sequência de passos deve ser:\n",
        "\n",
        "1) Gere um ponto aleatório $(x,y)$ dentro do quadrado $[-1,1]\\times[-1,1]$, onde cada coordenada tem distribuição uniforme.\n",
        "\n",
        "2) Verifique se o ponto está, ou não, dentro do círculo de raio $1$ e centro na origem.\n",
        "\n",
        "3) Repita os passos 1 e 2 por $n$ iterações, guardando o número de pontos dentro do círculo.\n",
        "\n",
        "4) Aproxime $\\pi$ por $4$ vezes a razão entre o número de pontos que são gerados dentro e o total de pontos gerados. Isto é válido pois o número de pontos dentro do círculo é proporcional à razão das áreas:\n",
        "$$\\frac{A_{circ}}{A_{quad}} = \\frac{\\pi R^2}{4 R^2} = \\frac{\\pi}{4} $$\n",
        "\n",
        "Implemente o método de Montecarlo para esta finalidade em TensorFlow."
      ]
    },
    {
      "metadata": {
        "id": "X34zv6xq0_sY",
        "colab_type": "code",
        "colab": {
          "autoexec": {
            "startup": false,
            "wait_interval": 0
          },
          "base_uri": "https://localhost:8080/",
          "height": 34
        },
        "outputId": "f42ec34d-eb36-4851-aba4-c5918b85a7a3",
        "executionInfo": {
          "status": "ok",
          "timestamp": 1526835844495,
          "user_tz": 180,
          "elapsed": 1610,
          "user": {
            "displayName": "Humberto Neto",
            "photoUrl": "//lh4.googleusercontent.com/-srCUfXbZYXc/AAAAAAAAAAI/AAAAAAAAADA/2W9r0vbMnjA/s50-c-k-no/photo.jpg",
            "userId": "107907802952684013889"
          }
        }
      },
      "cell_type": "code",
      "source": [
        "point = tf.random_uniform([1,2], minval=-1, maxval=1)\n",
        "pi = tf.Variable(0.)\n",
        "n = 1000\n",
        "hits = 0\n",
        "\n",
        "dist = tf.sqrt(tf.add(point[0][0]**2, point[0][1]**2))\n",
        "init = tf.global_variables_initializer()\n",
        "\n",
        "#Session\n",
        "with tf.Session() as sess:\n",
        "  sess.run(init)\n",
        "  \n",
        "  for _ in range(n):\n",
        "    output = sess.run(dist)    \n",
        "    if output<=1:\n",
        "      hits += 1\n",
        "    \n",
        "  sess.run(tf.assign(pi, 4*hits/n))\n",
        "  print('pi = ', sess.run(pi))"
      ],
      "execution_count": 14,
      "outputs": [
        {
          "output_type": "stream",
          "text": [
            "pi =  3.16\n"
          ],
          "name": "stdout"
        }
      ]
    },
    {
      "metadata": {
        "id": "CGySyjcm0_sb",
        "colab_type": "text"
      },
      "cell_type": "markdown",
      "source": [
        "### Exe. 9"
      ]
    },
    {
      "metadata": {
        "id": "RHV4N4z90_sd",
        "colab_type": "text"
      },
      "cell_type": "markdown",
      "source": [
        "TensorFlow também possui controle de fluxo por meio de condicionais e loops. \n",
        "\n",
        "Implemente um grafo que receba dois valors numéricos e um booleano. Dependendo do valor do booleano, o grafo deve retornar o produto (se `True`) ou a soma (se `False`) dos valores numéricos."
      ]
    },
    {
      "metadata": {
        "id": "EJXnHAGWZSEs",
        "colab_type": "code",
        "colab": {
          "autoexec": {
            "startup": false,
            "wait_interval": 0
          },
          "base_uri": "https://localhost:8080/",
          "height": 51
        },
        "outputId": "bd3099da-3309-4486-9985-424009e8d6fd",
        "executionInfo": {
          "status": "ok",
          "timestamp": 1526835829074,
          "user_tz": 180,
          "elapsed": 682,
          "user": {
            "displayName": "Humberto Neto",
            "photoUrl": "//lh4.googleusercontent.com/-srCUfXbZYXc/AAAAAAAAAAI/AAAAAAAAADA/2W9r0vbMnjA/s50-c-k-no/photo.jpg",
            "userId": "107907802952684013889"
          }
        }
      },
      "cell_type": "code",
      "source": [
        "x = tf.constant([5])\n",
        "y = tf.constant([7])\n",
        "b = tf.placeholder(tf.bool)\n",
        "\n",
        "equation = tf.where(b, tf.multiply(x, y), tf.add(x, y))\n",
        "\n",
        "with tf.Session() as sess:\n",
        "  print(sess.run(equation, feed_dict={b:True}))\n",
        "  print(sess.run(equation, feed_dict={b:False}))"
      ],
      "execution_count": 11,
      "outputs": [
        {
          "output_type": "stream",
          "text": [
            "[35]\n",
            "[12]\n"
          ],
          "name": "stdout"
        }
      ]
    },
    {
      "metadata": {
        "id": "1J4H7PfC0_sg",
        "colab_type": "text"
      },
      "cell_type": "markdown",
      "source": [
        "### Exe. 10"
      ]
    },
    {
      "metadata": {
        "id": "ce092dNb0_sg",
        "colab_type": "text"
      },
      "cell_type": "markdown",
      "source": [
        "A sequência de Fibonacci é uma sequência de grande importância na Teoria dos Números. Ela é recursiva, onde o n-ésimo termo é a soma dos dois anteriores.\n",
        "$$ a_n = a_{n-1} + a_{n-2} $$\n",
        "Utilizando loops em TensorFlow, faça um grafo que liste os `n` primeiros termos da sequência de Fibonacci."
      ]
    },
    {
      "metadata": {
        "id": "r8JG_S8ZKjdY",
        "colab_type": "code",
        "colab": {
          "autoexec": {
            "startup": false,
            "wait_interval": 0
          },
          "base_uri": "https://localhost:8080/",
          "height": 34
        },
        "outputId": "1c9e6953-1ce7-45bf-ba61-ed0fd35fa087",
        "executionInfo": {
          "status": "ok",
          "timestamp": 1526835829737,
          "user_tz": 180,
          "elapsed": 583,
          "user": {
            "displayName": "Humberto Neto",
            "photoUrl": "//lh4.googleusercontent.com/-srCUfXbZYXc/AAAAAAAAAAI/AAAAAAAAADA/2W9r0vbMnjA/s50-c-k-no/photo.jpg",
            "userId": "107907802952684013889"
          }
        }
      },
      "cell_type": "code",
      "source": [
        "n= tf.placeholder(tf.int32)\n",
        "\n",
        "def cond(i, a, b):\n",
        "    return i < n\n",
        "\n",
        "def body(i, a, b):\n",
        "    return i + 1, b, a + b\n",
        "\n",
        "i, a, b = tf.while_loop(cond, body, (2, 1, 1))\n",
        "\n",
        "output = []\n",
        "\n",
        "with tf.Session() as sess:\n",
        "  for i in range(1,15):\n",
        "    run = sess.run(b, feed_dict={n:i})\n",
        "    output.append(run)\n",
        "    \n",
        "print(output)"
      ],
      "execution_count": 12,
      "outputs": [
        {
          "output_type": "stream",
          "text": [
            "[1, 1, 2, 3, 5, 8, 13, 21, 34, 55, 89, 144, 233, 377]\n"
          ],
          "name": "stdout"
        }
      ]
    },
    {
      "metadata": {
        "id": "rl1R1VXh0_sk",
        "colab_type": "text"
      },
      "cell_type": "markdown",
      "source": [
        "### Exe. 11"
      ]
    },
    {
      "metadata": {
        "id": "lNGh5GkT0_sl",
        "colab_type": "text"
      },
      "cell_type": "markdown",
      "source": [
        "Equações diferenciais modelam fenômenos em todas as áreas da engenharia. Uma aplicação fundamental é na análise transitória de circuitos elétricos RL, RC e RLC. \n",
        "\n",
        "Um circuito RLC pode ser modelado como uma equação diferencial ordinária (EDO) de segunda ordem. Para um circuito RLC série, em termos da tensão no capacitor:\n",
        "$$\n",
        "\\frac{d^2v_C(t)}{dt^2} + \\frac{R}{L}\\frac{dv_C(t)}{dt} + \\frac{v_C(t)}{LC} = \\frac{E}{LC}\n",
        "$$\n",
        "onde:\n",
        "\n",
        "R = resistência (Ohms);\n",
        "\n",
        "L = indutância (Henrys);\n",
        "\n",
        "C = capacitância (Farads);\n",
        "\n",
        "E = fonte de tensão (Volts).\n",
        "\n",
        "Implemente um grafo que resolva esta EDO para condições iniciais quaisquer dadas.\n",
        "\n",
        "**Dica:** A função nativa `tf.contrib.integrate.odeint()` resolve apenas EDO's (ou sistemas de EDO's) de primeira ordem. Entretanto, toda EDO de ordem superior pode ser reduzida a sistemas de primeira ordem."
      ]
    },
    {
      "metadata": {
        "id": "tK1H1LvM0_sl",
        "colab_type": "code",
        "colab": {
          "autoexec": {
            "startup": false,
            "wait_interval": 0
          },
          "base_uri": "https://localhost:8080/",
          "height": 347
        },
        "outputId": "bd4ad6bf-f1dd-4e6b-d0b3-834d69fce151",
        "executionInfo": {
          "status": "ok",
          "timestamp": 1526835841970,
          "user_tz": 180,
          "elapsed": 12145,
          "user": {
            "displayName": "Humberto Neto",
            "photoUrl": "//lh4.googleusercontent.com/-srCUfXbZYXc/AAAAAAAAAAI/AAAAAAAAADA/2W9r0vbMnjA/s50-c-k-no/photo.jpg",
            "userId": "107907802952684013889"
          }
        }
      },
      "cell_type": "code",
      "source": [
        "resistance = 1e-1   #ohm\n",
        "inductance = 1e-3   #Henry\n",
        "capacitance = 100e-6  #Farad\n",
        "E = 2.\n",
        "  \n",
        "def lorenz_equation(state,t):\n",
        "  x,v = tf.unstack(state)\n",
        "  dx = (-resistance/inductance)*x + (-1/(inductance*capacitance))*v +(E/(inductance*capacitance))\n",
        "  dv = x\n",
        "  return tf.stack([dx, dv])\n",
        "\n",
        "init_state = tf.constant([0, 0], dtype = tf.float64)\n",
        "t = np.linspace(0, 0.1, num=100)\n",
        "\n",
        "tensor_state, tensor_info = tf.contrib.integrate.odeint(lorenz_equation, \n",
        "                                                               init_state, \n",
        "                                                               t, \n",
        "                                                               full_output=True)\n",
        "\n",
        "with tf.Session() as sess:\n",
        "  state, info = sess.run([tensor_state, tensor_info])\n",
        "  x, v = state.T\n",
        "  plt.plot(t,x)"
      ],
      "execution_count": 13,
      "outputs": [
        {
          "output_type": "display_data",
          "data": {
            "image/png": "[encoded data removed]",
            "text/plain": [
              "<matplotlib.figure.Figure at 0x7f22ea962128>"
            ]
          },
          "metadata": {
            "tags": []
          }
        }
      ]
    }
  ]
}