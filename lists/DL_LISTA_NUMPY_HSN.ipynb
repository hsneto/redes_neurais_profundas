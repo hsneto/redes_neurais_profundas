{
  "nbformat": 4,
  "nbformat_minor": 0,
  "metadata": {
    "colab": {
      "name": "DL_LISTA_NUMPY_HSN",
      "version": "0.3.2",
      "views": {},
      "default_view": {},
      "provenance": [],
      "collapsed_sections": []
    },
    "kernelspec": {
      "display_name": "Python 3",
      "language": "python",
      "name": "python3"
    }
  },
  "cells": [
    {
      "metadata": {
        "id": "Q2FVNzJIz-lU",
        "colab_type": "text"
      },
      "cell_type": "markdown",
      "source": [
        "# Lista de exercícios sobre libraria Numpy"
      ]
    },
    {
      "metadata": {
        "id": "f2irilIxz-lW",
        "colab_type": "text"
      },
      "cell_type": "markdown",
      "source": [
        "<br/>**Disciplina**: Introdução a redes neurais profundas 2018/1\n",
        "<br/>**Professor**: Jorge Leonid Aching Samatelo"
      ]
    },
    {
      "metadata": {
        "id": "CfMjYnGzz-lX",
        "colab_type": "text"
      },
      "cell_type": "markdown",
      "source": [
        "**Aluno**: Humberto da Silva Neto"
      ]
    },
    {
      "metadata": {
        "id": "hcmQPSemz-lX",
        "colab_type": "text"
      },
      "cell_type": "markdown",
      "source": [
        "## Tabela de conteúdos\n",
        "1. [Indicações](#indicacoes)\n",
        "1. [Exercícios sobre Numpy](#ExerNumpy)\n",
        "1. [Exercícios de Programação](#ExerProgramacao)"
      ]
    },
    {
      "metadata": {
        "id": "3B2cVG9Fz-lY",
        "colab_type": "text"
      },
      "cell_type": "markdown",
      "source": [
        "## Indicações <a name=\"indicacoes\"></a>\n",
        "\n",
        "### Considerações\n",
        "* Cada aluno enviará por e-mail a solução dos exercícios propostos, tais soluções devem ser inseridas neste mesmo arquivo. \n",
        "* Para saber sobre a libraria `numpy` é necessario ler os slides `NUMPY_2x2.pdf`.\n",
        "* Para saber cómo trabalhar com arquivos `*.ipynb` é necessario ler os slides `003_JUPYTER_2x2.pdf`.\n",
        "* Usar o interprete de `python 3.5`.\n",
        "\n",
        "### Prazo\n",
        "* Envio das soluções: Domingo 29/04/2018 - (11:59 pm) \n",
        "\n",
        "### Procedimento para o envio das soluções\n",
        "* O arquivo `*.ipynb` com as soluções dos exercícios deve ser enviado ao email <jlasam001@gmail.com> com o assunto: `LISTA_EXERCICIO_NUMPY_2018_1`. \n",
        "* O nome do arquivo `*.ipynb` deve iniciar com o rotulo `DL_LISTA_NUMPY` seguido pelas iniciais do nome do aluno que soluciono os exercícios (por exemplo, o aluno Pedro Farias enviara o arquivo `DL_LISTA_NUMPY_PF.ipynb`).\n",
        "\n",
        "### Dicas execução\n",
        "* Carregue todos os pacotes que serão necessários no início do arquivo.\n",
        "* Para executar comandos da shell dentro do notebook, utilize o prefixo `!` antes do comando de shell. (e.g. para listar os arquivos da pasta atual faça `! ls` para UNIX ou `! dir` para Windows."
      ]
    },
    {
      "metadata": {
        "id": "oMbl0lylz-la",
        "colab_type": "text"
      },
      "cell_type": "markdown",
      "source": [
        "## Exercícios sobre Numpy <a name=\"ExerString\"></a>"
      ]
    },
    {
      "metadata": {
        "id": "Uou0mP7fz-la",
        "colab_type": "text"
      },
      "cell_type": "markdown",
      "source": [
        "## Exe. 1\n",
        "Crie uma matriz nxn com valores 1,2,...,n-1 logo abaixo da diagonal.\n",
        "\n",
        "Exemplo: Considerando n = 4.\n",
        "```\n",
        "A = [0 0 0 0 0]\n",
        "    [1 0 0 0 0]\n",
        "    [0 2 0 0 0]\n",
        "    [0 0 3 0 0]\n",
        "    [0 0 0 4 0]\n",
        "```"
      ]
    },
    {
      "metadata": {
        "id": "q2ft6hHLz-la",
        "colab_type": "code",
        "colab": {
          "autoexec": {
            "startup": false,
            "wait_interval": 0
          },
          "base_uri": "https://localhost:8080/",
          "height": 125
        },
        "outputId": "6072f9a7-dd3f-4483-ebf0-092b9717e8d1",
        "executionInfo": {
          "status": "ok",
          "timestamp": 1524013497727,
          "user_tz": 180,
          "elapsed": 608,
          "user": {
            "displayName": "Humberto Neto",
            "photoUrl": "//lh4.googleusercontent.com/-srCUfXbZYXc/AAAAAAAAAAI/AAAAAAAAADA/2W9r0vbMnjA/s50-c-k-no/photo.jpg",
            "userId": "107907802952684013889"
          }
        }
      },
      "cell_type": "code",
      "source": [
        "from numpy import zeros\n",
        "\n",
        "def under_diag(n):\n",
        "  A = zeros((n+1,n+1))\n",
        "  for i in range(1,n+1):\n",
        "    A[i,i-1] = i\n",
        "    \n",
        "  return A\n",
        "\n",
        "print(under_diag(5))"
      ],
      "execution_count": 1,
      "outputs": [
        {
          "output_type": "stream",
          "text": [
            "[[0. 0. 0. 0. 0. 0.]\n",
            " [1. 0. 0. 0. 0. 0.]\n",
            " [0. 2. 0. 0. 0. 0.]\n",
            " [0. 0. 3. 0. 0. 0.]\n",
            " [0. 0. 0. 4. 0. 0.]\n",
            " [0. 0. 0. 0. 5. 0.]]\n"
          ],
          "name": "stdout"
        }
      ]
    },
    {
      "metadata": {
        "id": "nchi-c0Qz-le",
        "colab_type": "text"
      },
      "cell_type": "markdown",
      "source": [
        "## Exe. 2\n",
        "Crie uma matriz nxn com 1 na borda e 0 dentro.\n",
        "\n",
        "Exemplo: Considerando n = 10.\n",
        "```\n",
        "Z = [ 1.  1.  1.  1.  1.  1.  1.  1.  1.  1.]\n",
        "    [ 1.  0.  0.  0.  0.  0.  0.  0.  0.  1.]\n",
        "    [ 1.  0.  0.  0.  0.  0.  0.  0.  0.  1.]\n",
        "    [ 1.  0.  0.  0.  0.  0.  0.  0.  0.  1.]\n",
        "    [ 1.  0.  0.  0.  0.  0.  0.  0.  0.  1.]\n",
        "    [ 1.  0.  0.  0.  0.  0.  0.  0.  0.  1.]\n",
        "    [ 1.  0.  0.  0.  0.  0.  0.  0.  0.  1.]\n",
        "    [ 1.  0.  0.  0.  0.  0.  0.  0.  0.  1.]\n",
        "    [ 1.  0.  0.  0.  0.  0.  0.  0.  0.  1.]\n",
        "    [ 1.  1.  1.  1.  1.  1.  1.  1.  1.  1.]\n",
        "```"
      ]
    },
    {
      "metadata": {
        "id": "tdxEAXqmz-lf",
        "colab_type": "code",
        "colab": {
          "autoexec": {
            "startup": false,
            "wait_interval": 0
          },
          "base_uri": "https://localhost:8080/",
          "height": 197
        },
        "outputId": "06fb3844-4fc4-4b5b-bc5d-8504057898d1",
        "executionInfo": {
          "status": "ok",
          "timestamp": 1524013498576,
          "user_tz": 180,
          "elapsed": 771,
          "user": {
            "displayName": "Humberto Neto",
            "photoUrl": "//lh4.googleusercontent.com/-srCUfXbZYXc/AAAAAAAAAAI/AAAAAAAAADA/2W9r0vbMnjA/s50-c-k-no/photo.jpg",
            "userId": "107907802952684013889"
          }
        }
      },
      "cell_type": "code",
      "source": [
        "from numpy import ones\n",
        "\n",
        "def border(n):\n",
        "  A = ones((n,n))\n",
        "  A[1:-1,1:-1] = 0\n",
        "  return A\n",
        "  \n",
        "print(border(10))"
      ],
      "execution_count": 2,
      "outputs": [
        {
          "output_type": "stream",
          "text": [
            "[[1. 1. 1. 1. 1. 1. 1. 1. 1. 1.]\n",
            " [1. 0. 0. 0. 0. 0. 0. 0. 0. 1.]\n",
            " [1. 0. 0. 0. 0. 0. 0. 0. 0. 1.]\n",
            " [1. 0. 0. 0. 0. 0. 0. 0. 0. 1.]\n",
            " [1. 0. 0. 0. 0. 0. 0. 0. 0. 1.]\n",
            " [1. 0. 0. 0. 0. 0. 0. 0. 0. 1.]\n",
            " [1. 0. 0. 0. 0. 0. 0. 0. 0. 1.]\n",
            " [1. 0. 0. 0. 0. 0. 0. 0. 0. 1.]\n",
            " [1. 0. 0. 0. 0. 0. 0. 0. 0. 1.]\n",
            " [1. 1. 1. 1. 1. 1. 1. 1. 1. 1.]]\n"
          ],
          "name": "stdout"
        }
      ]
    },
    {
      "metadata": {
        "id": "n1TDIUNGz-lh",
        "colab_type": "text"
      },
      "cell_type": "markdown",
      "source": [
        "## Exe. 3\n",
        "Crie uma matriz nxn, com n par, e preenchê-lo com um padrão de xadrez.\n",
        "\n",
        "Exemplo: Considerando n = 8.\n",
        "```\n",
        "Z = [0 1 0 1 0 1 0 1]\n",
        "    [1 0 1 0 1 0 1 0]\n",
        "    [0 1 0 1 0 1 0 1]\n",
        "    [1 0 1 0 1 0 1 0]\n",
        "    [0 1 0 1 0 1 0 1]\n",
        "    [1 0 1 0 1 0 1 0]\n",
        "    [0 1 0 1 0 1 0 1]\n",
        "    [1 0 1 0 1 0 1 0]\n",
        "```"
      ]
    },
    {
      "metadata": {
        "id": "c26mqWgWz-li",
        "colab_type": "code",
        "colab": {
          "autoexec": {
            "startup": false,
            "wait_interval": 0
          },
          "base_uri": "https://localhost:8080/",
          "height": 161
        },
        "outputId": "f76b14e5-9b6e-4ff0-c24f-154592b2601a",
        "executionInfo": {
          "status": "ok",
          "timestamp": 1524013499350,
          "user_tz": 180,
          "elapsed": 702,
          "user": {
            "displayName": "Humberto Neto",
            "photoUrl": "//lh4.googleusercontent.com/-srCUfXbZYXc/AAAAAAAAAAI/AAAAAAAAADA/2W9r0vbMnjA/s50-c-k-no/photo.jpg",
            "userId": "107907802952684013889"
          }
        }
      },
      "cell_type": "code",
      "source": [
        "from numpy import zeros\n",
        "from numpy import array\n",
        "\n",
        "def numpy_bin(n):\n",
        "  if (n%2 != 0):\n",
        "    return 'Argumento inválido! Tente um numero par.'\n",
        "  \n",
        "  else:\n",
        "    A = zeros((n,n))\n",
        "    for i in range(A.shape[0]):\n",
        "      for j in range(A.shape[1]):\n",
        "        A[i,j] = 1 if (i+j)%2 != 0 else 0     \n",
        "    \n",
        "    return A\n",
        "    \n",
        "print(numpy_bin(8))"
      ],
      "execution_count": 3,
      "outputs": [
        {
          "output_type": "stream",
          "text": [
            "[[0. 1. 0. 1. 0. 1. 0. 1.]\n",
            " [1. 0. 1. 0. 1. 0. 1. 0.]\n",
            " [0. 1. 0. 1. 0. 1. 0. 1.]\n",
            " [1. 0. 1. 0. 1. 0. 1. 0.]\n",
            " [0. 1. 0. 1. 0. 1. 0. 1.]\n",
            " [1. 0. 1. 0. 1. 0. 1. 0.]\n",
            " [0. 1. 0. 1. 0. 1. 0. 1.]\n",
            " [1. 0. 1. 0. 1. 0. 1. 0.]]\n"
          ],
          "name": "stdout"
        }
      ]
    },
    {
      "metadata": {
        "id": "uWm7BO8rz-lk",
        "colab_type": "text"
      },
      "cell_type": "markdown",
      "source": [
        "## Exe. 4\n",
        "Criar um vetor de tamanho 10 inicializada com valores entre $<0,1>$.\n",
        "\n",
        "Exemplo:\n",
        "```\n",
        "Z= [0.091 0.181 0.272 0.363 0.454 0.545 0.636 0.727 0.818 0.909]\n",
        "```"
      ]
    },
    {
      "metadata": {
        "id": "eukI8uyDz-ll",
        "colab_type": "code",
        "colab": {
          "autoexec": {
            "startup": false,
            "wait_interval": 0
          },
          "base_uri": "https://localhost:8080/",
          "height": 53
        },
        "outputId": "6a434f26-1e0f-45c6-d66c-c8580da9078e",
        "executionInfo": {
          "status": "ok",
          "timestamp": 1524013499991,
          "user_tz": 180,
          "elapsed": 552,
          "user": {
            "displayName": "Humberto Neto",
            "photoUrl": "//lh4.googleusercontent.com/-srCUfXbZYXc/AAAAAAAAAAI/AAAAAAAAADA/2W9r0vbMnjA/s50-c-k-no/photo.jpg",
            "userId": "107907802952684013889"
          }
        }
      },
      "cell_type": "code",
      "source": [
        "from numpy import linspace\n",
        "\n",
        "A = linspace(0,1,12)\n",
        "A = A[1:-1]\n",
        "print(A)"
      ],
      "execution_count": 4,
      "outputs": [
        {
          "output_type": "stream",
          "text": [
            "[0.09090909 0.18181818 0.27272727 0.36363636 0.45454545 0.54545455\n",
            " 0.63636364 0.72727273 0.81818182 0.90909091]\n"
          ],
          "name": "stdout"
        }
      ]
    },
    {
      "metadata": {
        "id": "ACiwuUtjz-ln",
        "colab_type": "text"
      },
      "cell_type": "markdown",
      "source": [
        "## Exe. 5\n",
        "Dado um array, negar todos os elementos que estão entre 3 e 8.\n",
        "\n",
        "Exemplo:\n",
        "```\n",
        "Zorg =  [ 0  1  2  3  4  5  6  7  8  9 10]\n",
        "Ztrf =  [ 0  1  2  3 -4 -5 -6 -7 -8  9 10]\n",
        "```"
      ]
    },
    {
      "metadata": {
        "id": "ZoPHUJjMABvm",
        "colab_type": "code",
        "colab": {
          "autoexec": {
            "startup": false,
            "wait_interval": 0
          },
          "base_uri": "https://localhost:8080/",
          "height": 35
        },
        "outputId": "c3435e5e-17e2-4f95-cb91-c541f0941a41",
        "executionInfo": {
          "status": "ok",
          "timestamp": 1524013500627,
          "user_tz": 180,
          "elapsed": 578,
          "user": {
            "displayName": "Humberto Neto",
            "photoUrl": "//lh4.googleusercontent.com/-srCUfXbZYXc/AAAAAAAAAAI/AAAAAAAAADA/2W9r0vbMnjA/s50-c-k-no/photo.jpg",
            "userId": "107907802952684013889"
          }
        }
      },
      "cell_type": "code",
      "source": [
        "from numpy import arange\n",
        "\n",
        "def neg_array(array, min=3, max=8):\n",
        "  for i in range(array.size):\n",
        "    array[i] = -array[i] if min <= array[i] <= max else array[i]\n",
        "    \n",
        "  return array\n",
        "  \n",
        "  \n",
        "Zorg = arange(0,11)\n",
        "Ztrf = neg_array(Zorg)\n",
        "print(Ztrf)"
      ],
      "execution_count": 5,
      "outputs": [
        {
          "output_type": "stream",
          "text": [
            "[ 0  1  2 -3 -4 -5 -6 -7 -8  9 10]\n"
          ],
          "name": "stdout"
        }
      ]
    },
    {
      "metadata": {
        "id": "fncqctmJz-lq",
        "colab_type": "text"
      },
      "cell_type": "markdown",
      "source": [
        "## Exe. 6\n",
        "Extraia a parte inteira de uma array de números aleatórios entre  1.0 e 10.0 usando 5 métodos diferentes.\n",
        "\n",
        "Exemplo (para um caso):\n",
        "```\n",
        "Z  =  [7.497 6.573 9.946 2.645 2.501 8.911 4.301 9.643 4.361 4.128]\n",
        "Z1 =  [ 7.  6.  9.  2.  2.  8.  4.  9.  4.  4.]\n",
        "```"
      ]
    },
    {
      "metadata": {
        "id": "aedARwmlz-lv",
        "colab_type": "code",
        "colab": {
          "autoexec": {
            "startup": false,
            "wait_interval": 0
          },
          "base_uri": "https://localhost:8080/",
          "height": 107
        },
        "outputId": "6eec1b26-a231-427b-8c92-0c0094462fd6",
        "executionInfo": {
          "status": "ok",
          "timestamp": 1524013501512,
          "user_tz": 180,
          "elapsed": 802,
          "user": {
            "displayName": "Humberto Neto",
            "photoUrl": "//lh4.googleusercontent.com/-srCUfXbZYXc/AAAAAAAAAAI/AAAAAAAAADA/2W9r0vbMnjA/s50-c-k-no/photo.jpg",
            "userId": "107907802952684013889"
          }
        }
      },
      "cell_type": "code",
      "source": [
        "from numpy import array, floor, trunc, mod, modf\n",
        "\n",
        "def method_1(array):\n",
        "  return array.astype(int)\n",
        "  \n",
        "def method_2(array):\n",
        "  return floor(array)\n",
        "\n",
        "def method_3(array):\n",
        "  return trunc(array)\n",
        "  \n",
        "def method_4(array): \n",
        "  return array - mod(array,1)\n",
        "\n",
        "def method_5(array):\n",
        "  return modf(array)[1]\n",
        "\n",
        "Z = array([7.497, 6.573, 9.946, 2.645, 2.501, 8.911, 4.301, 9.643, 4.361, 4.128])\n",
        "\n",
        "print(method_1(Z))\n",
        "print(method_2(Z))\n",
        "print(method_3(Z))\n",
        "print(method_4(Z))\n",
        "print(method_5(Z))"
      ],
      "execution_count": 6,
      "outputs": [
        {
          "output_type": "stream",
          "text": [
            "[7 6 9 2 2 8 4 9 4 4]\n",
            "[7. 6. 9. 2. 2. 8. 4. 9. 4. 4.]\n",
            "[7. 6. 9. 2. 2. 8. 4. 9. 4. 4.]\n",
            "[7. 6. 9. 2. 2. 8. 4. 9. 4. 4.]\n",
            "[7. 6. 9. 2. 2. 8. 4. 9. 4. 4.]\n"
          ],
          "name": "stdout"
        }
      ]
    },
    {
      "metadata": {
        "id": "Ql6FMJMcz-l0",
        "colab_type": "text"
      },
      "cell_type": "markdown",
      "source": [
        "## Exe. 7\n",
        "Considere dois arrays $A$ e $B$ aleatórios inicializados com valores aleatorios inteiros, verifique se eles são iguais.\n",
        "\n",
        "Exemplo:\n",
        "```\n",
        "A =  [2 2 0 2 1]\n",
        "B =  [1 0 2 3 3]\n",
        "False\n",
        "```"
      ]
    },
    {
      "metadata": {
        "id": "E7AcVZ1az-l0",
        "colab_type": "code",
        "colab": {
          "autoexec": {
            "startup": false,
            "wait_interval": 0
          },
          "base_uri": "https://localhost:8080/",
          "height": 53
        },
        "outputId": "e6b32daa-ef9e-4fb6-c195-402052ec3dc6",
        "executionInfo": {
          "status": "ok",
          "timestamp": 1524013502147,
          "user_tz": 180,
          "elapsed": 566,
          "user": {
            "displayName": "Humberto Neto",
            "photoUrl": "//lh4.googleusercontent.com/-srCUfXbZYXc/AAAAAAAAAAI/AAAAAAAAADA/2W9r0vbMnjA/s50-c-k-no/photo.jpg",
            "userId": "107907802952684013889"
          }
        }
      },
      "cell_type": "code",
      "source": [
        "from numpy import array\n",
        "\n",
        "A =  array([2, 2, 0, 2, 1])\n",
        "B =  array([1, 0, 2, 3, 3])\n",
        "\n",
        "print(all(A==B))\n",
        "print(all(A==A))"
      ],
      "execution_count": 7,
      "outputs": [
        {
          "output_type": "stream",
          "text": [
            "False\n",
            "True\n"
          ],
          "name": "stdout"
        }
      ]
    },
    {
      "metadata": {
        "id": "JqFAEwXqz-l_",
        "colab_type": "text"
      },
      "cell_type": "markdown",
      "source": [
        "## Exe. 8\n",
        "Considere uma matriz aleatória de 10x2 que representa coordenadas cartesianas, converta-as em coordenadas polares."
      ]
    },
    {
      "metadata": {
        "id": "4MojuHeSz-l_",
        "colab_type": "code",
        "colab": {
          "autoexec": {
            "startup": false,
            "wait_interval": 0
          },
          "base_uri": "https://localhost:8080/",
          "height": 197
        },
        "outputId": "abf624eb-a158-4950-e8f2-10795187e59e",
        "executionInfo": {
          "status": "ok",
          "timestamp": 1524013502783,
          "user_tz": 180,
          "elapsed": 562,
          "user": {
            "displayName": "Humberto Neto",
            "photoUrl": "//lh4.googleusercontent.com/-srCUfXbZYXc/AAAAAAAAAAI/AAAAAAAAADA/2W9r0vbMnjA/s50-c-k-no/photo.jpg",
            "userId": "107907802952684013889"
          }
        }
      },
      "cell_type": "code",
      "source": [
        "from numpy import array, sqrt, arctan2, vstack\n",
        "\n",
        "def cart2pol(coordinates): \n",
        "  for i in range(coordinates.shape[0]):\n",
        "    rho = sqrt(coordinates[i,0]**2 + coordinates[i,1]**2)\n",
        "    phi = arctan2(coordinates[i,1], coordinates[i,0])\n",
        "    \n",
        "    if (i==0):\n",
        "      output = array([rho, phi])\n",
        "    \n",
        "    else:\n",
        "      output = vstack([output, array([rho, phi])])\n",
        "      \n",
        "  return output    \n",
        "  \n",
        "A =  array([[3, 3, 0, 2, 1, 4, 7, 2, 3, 3], [4, 7, 2, 3, 3, 3, 3, 0, 2, 1]]).T\n",
        "B = cart2pol(A)\n",
        "\n",
        "for i in range(A.shape[0]):\n",
        "  print('Cart2pol: {} ---> {}'.format(A[i],B[i]))"
      ],
      "execution_count": 8,
      "outputs": [
        {
          "output_type": "stream",
          "text": [
            "Cart2pol: [3 4] ---> [5.         0.92729522]\n",
            "Cart2pol: [3 7] ---> [7.61577311 1.16590454]\n",
            "Cart2pol: [0 2] ---> [2.         1.57079633]\n",
            "Cart2pol: [2 3] ---> [3.60555128 0.98279372]\n",
            "Cart2pol: [1 3] ---> [3.16227766 1.24904577]\n",
            "Cart2pol: [4 3] ---> [5.         0.64350111]\n",
            "Cart2pol: [7 3] ---> [7.61577311 0.40489179]\n",
            "Cart2pol: [2 0] ---> [2. 0.]\n",
            "Cart2pol: [3 2] ---> [3.60555128 0.5880026 ]\n",
            "Cart2pol: [3 1] ---> [3.16227766 0.32175055]\n"
          ],
          "name": "stdout"
        }
      ]
    },
    {
      "metadata": {
        "id": "AoXVRzb7z-mC",
        "colab_type": "text"
      },
      "cell_type": "markdown",
      "source": [
        "## Exe. 9\n",
        "Considere o vetor [1, 2, 3, 4, 5], como construir um novo vetor com 3 zeros consecutivos intercalados entre cada valor.\n",
        "\n",
        "Exemplo:\n",
        "```\n",
        "Zorg =  [1 2 3 4 5]\n",
        "Z000 =  [ 1.  0.  0.  0.  2.  0.  0.  0.  3.  0.  0.  0.  4.  0.  0.  0.  5.]\n",
        "```"
      ]
    },
    {
      "metadata": {
        "id": "h5vXSRrYz-mE",
        "colab_type": "code",
        "colab": {
          "autoexec": {
            "startup": false,
            "wait_interval": 0
          },
          "base_uri": "https://localhost:8080/",
          "height": 35
        },
        "outputId": "d2519f35-769c-4dd5-c4e7-e5e93fff1f4d",
        "executionInfo": {
          "status": "ok",
          "timestamp": 1524013503425,
          "user_tz": 180,
          "elapsed": 573,
          "user": {
            "displayName": "Humberto Neto",
            "photoUrl": "//lh4.googleusercontent.com/-srCUfXbZYXc/AAAAAAAAAAI/AAAAAAAAADA/2W9r0vbMnjA/s50-c-k-no/photo.jpg",
            "userId": "107907802952684013889"
          }
        }
      },
      "cell_type": "code",
      "source": [
        "from numpy import array, zeros, insert\n",
        "\n",
        "def add_000(array):\n",
        "  z = zeros(3).astype(int)\n",
        "  \n",
        "  for i in range(array.size-1):\n",
        "    array = insert(array,1+4*i,z)\n",
        "    \n",
        "  return array\n",
        "    \n",
        "Zorg = array([1, 2, 3, 4, 5])\n",
        "print(add_000(Zorg))"
      ],
      "execution_count": 9,
      "outputs": [
        {
          "output_type": "stream",
          "text": [
            "[1 0 0 0 2 0 0 0 3 0 0 0 4 0 0 0 5]\n"
          ],
          "name": "stdout"
        }
      ]
    },
    {
      "metadata": {
        "id": "7T31BHtSz-mG",
        "colab_type": "text"
      },
      "cell_type": "markdown",
      "source": [
        "## Exe. 10\n",
        "Encontre o valor mais próximo de um dado valor em um array.\n",
        "\n",
        "Exemplo:\n",
        "```\n",
        "Z =  [0.198 0.825 0.057 0.695 0.0333 0.793 0.526 0.547 0.787  0.656]\n",
        "valor =  0.5\n",
        "valor proximo em Z = 0.526929001754\n",
        "```"
      ]
    },
    {
      "metadata": {
        "id": "BORtYyBvz-mI",
        "colab_type": "code",
        "colab": {
          "autoexec": {
            "startup": false,
            "wait_interval": 0
          },
          "base_uri": "https://localhost:8080/",
          "height": 35
        },
        "outputId": "e1010c3f-8870-4256-da6c-8e9be36b7f32",
        "executionInfo": {
          "status": "ok",
          "timestamp": 1524013504101,
          "user_tz": 180,
          "elapsed": 612,
          "user": {
            "displayName": "Humberto Neto",
            "photoUrl": "//lh4.googleusercontent.com/-srCUfXbZYXc/AAAAAAAAAAI/AAAAAAAAADA/2W9r0vbMnjA/s50-c-k-no/photo.jpg",
            "userId": "107907802952684013889"
          }
        }
      },
      "cell_type": "code",
      "source": [
        "from numpy import array\n",
        "\n",
        "def nearest_in(array, value):\n",
        "  idx = (abs(array-value)).argmin()\n",
        "  return array[idx]\n",
        "  \n",
        "a = array([0.198, 0.825, 0.057, 0.695, 0.0333, 0.793, 0.526, 0.547, 0.787, 0.656])\n",
        "print(nearest_in(a,0.5))"
      ],
      "execution_count": 10,
      "outputs": [
        {
          "output_type": "stream",
          "text": [
            "0.526\n"
          ],
          "name": "stdout"
        }
      ]
    },
    {
      "metadata": {
        "id": "nQVgqqzCz-mN",
        "colab_type": "text"
      },
      "cell_type": "markdown",
      "source": [
        "## Exercícios de Programação <a name=\"ExerProgramacao\"></a>"
      ]
    },
    {
      "metadata": {
        "id": "MyqMbt-sz-mP",
        "colab_type": "text"
      },
      "cell_type": "markdown",
      "source": [
        "## Exe. 1\n",
        "\n",
        "Como encontrar o valor mais freqüente em um array?\n",
        "\n",
        "Exemplo:\n",
        "```\n",
        "Z = [8 1 8 1 9 6 2 7 0 1 7 1 6 7 9 6 0 2 1 9 8 9 0 6 9 7 1 4 2 8 1 6 4 6 1 3 5 0 1 1 5 5 0 9 4 9 9 1 1 2]\n",
        "ValMoreFreq = 1\n",
        "```"
      ]
    },
    {
      "metadata": {
        "id": "BJLUjieNz-mQ",
        "colab_type": "code",
        "colab": {
          "autoexec": {
            "startup": false,
            "wait_interval": 0
          },
          "base_uri": "https://localhost:8080/",
          "height": 35
        },
        "outputId": "ee9c2da7-2ffe-4873-f857-20b58bf54a5d",
        "executionInfo": {
          "status": "ok",
          "timestamp": 1524013504725,
          "user_tz": 180,
          "elapsed": 558,
          "user": {
            "displayName": "Humberto Neto",
            "photoUrl": "//lh4.googleusercontent.com/-srCUfXbZYXc/AAAAAAAAAAI/AAAAAAAAADA/2W9r0vbMnjA/s50-c-k-no/photo.jpg",
            "userId": "107907802952684013889"
          }
        }
      },
      "cell_type": "code",
      "source": [
        "from numpy import array, bincount, argmax\n",
        "\n",
        "Z = array([8, 1, 8, 1, 9, 6, 2, 7, 0, 1, 7, 1, 6, 7, 9, 6, 0, 2, 1, 9, 8, 9, 0, 6, 9,\n",
        "           7, 1, 4, 2, 8, 1, 6, 4, 6, 1, 3, 5, 0, 1, 1, 5, 5, 0, 9, 4, 9, 9, 1, 1, 2])\n",
        "\n",
        "ValMoreFreq = argmax(bincount(Z))\n",
        "print(ValMoreFreq)"
      ],
      "execution_count": 11,
      "outputs": [
        {
          "output_type": "stream",
          "text": [
            "1\n"
          ],
          "name": "stdout"
        }
      ]
    },
    {
      "metadata": {
        "id": "rIAvEJxIz-mT",
        "colab_type": "text"
      },
      "cell_type": "markdown",
      "source": [
        "## Exe. 2\n",
        "\n",
        "Considere duas matrizes A e B de forma (8,3) e (2,2). Como encontrar as linhas de A que contêm elementos de cada linha de B independentemente da ordem dos elementos em B? \n",
        "\n",
        "Exemplo:\n",
        "```\n",
        "A = [[2 1 4]\n",
        "     [3 2 2]\n",
        "     [3 4 1]\n",
        "     [3 0 0]\n",
        "     [4 3 4]\n",
        "     [0 0 1]\n",
        "     [2 1 4]\n",
        "     [0 3 1]]\n",
        "B = [[1 4]\n",
        "     [2 4]]\n",
        "rows = [0 1 2 4 6]\n",
        "```"
      ]
    },
    {
      "metadata": {
        "id": "x-YbTw7bz-mU",
        "colab_type": "code",
        "colab": {
          "autoexec": {
            "startup": false,
            "wait_interval": 0
          },
          "base_uri": "https://localhost:8080/",
          "height": 35
        },
        "outputId": "3d46edae-26fb-4f4b-abac-584547f8749c",
        "executionInfo": {
          "status": "ok",
          "timestamp": 1524013505618,
          "user_tz": 180,
          "elapsed": 850,
          "user": {
            "displayName": "Humberto Neto",
            "photoUrl": "//lh4.googleusercontent.com/-srCUfXbZYXc/AAAAAAAAAAI/AAAAAAAAADA/2W9r0vbMnjA/s50-c-k-no/photo.jpg",
            "userId": "107907802952684013889"
          }
        }
      },
      "cell_type": "code",
      "source": [
        "from numpy import array, isin\n",
        "\n",
        "def b_in_A(A, B):\n",
        "  rows = []\n",
        "  I = isin(A, B, assume_unique=True)\n",
        "  \n",
        "  for i in range(A.shape[0]):\n",
        "    rows.append(i) if sum(I[i])>1 else None\n",
        "    \n",
        "  return rows\n",
        "\n",
        "A = array([[2, 1, 4],\n",
        "           [3, 2, 2],\n",
        "           [3, 4, 1],\n",
        "           [3, 0, 0],\n",
        "           [4, 3, 4],\n",
        "           [0, 0, 1],\n",
        "           [2, 1, 4],\n",
        "           [0, 3, 1]])\n",
        "\n",
        "B = array([[1, 4],\n",
        "           [2, 4]])\n",
        "\n",
        "lst = b_in_A(A,B)\n",
        "print(lst)"
      ],
      "execution_count": 12,
      "outputs": [
        {
          "output_type": "stream",
          "text": [
            "[0, 1, 2, 4, 6]\n"
          ],
          "name": "stdout"
        }
      ]
    },
    {
      "metadata": {
        "id": "IhHwf2T5z-mW",
        "colab_type": "text"
      },
      "cell_type": "markdown",
      "source": [
        "## Exe. 3\n",
        "Dado um array bidimensional, como extrair linhas unicas?\n",
        "\n",
        "Exemplo:\n",
        "```\n",
        "Z = [[0 0 1]\n",
        "     [1 0 0]\n",
        "     [1 1 0]\n",
        "     [1 1 1]\n",
        "     [0 1 1]\n",
        "     [1 1 0]]\n",
        "Zu = [[0 0 1]\n",
        "      [0 1 1]\n",
        "      [1 0 0]\n",
        "      [1 1 0]\n",
        "      [1 1 1]]\n",
        "```"
      ]
    },
    {
      "metadata": {
        "id": "TYVXfqnnz-mX",
        "colab_type": "code",
        "colab": {
          "autoexec": {
            "startup": false,
            "wait_interval": 0
          },
          "base_uri": "https://localhost:8080/",
          "height": 269
        },
        "outputId": "a2f8b11d-8ca7-49ee-8917-da550961d42f",
        "executionInfo": {
          "status": "ok",
          "timestamp": 1524013506487,
          "user_tz": 180,
          "elapsed": 822,
          "user": {
            "displayName": "Humberto Neto",
            "photoUrl": "//lh4.googleusercontent.com/-srCUfXbZYXc/AAAAAAAAAAI/AAAAAAAAADA/2W9r0vbMnjA/s50-c-k-no/photo.jpg",
            "userId": "107907802952684013889"
          }
        }
      },
      "cell_type": "code",
      "source": [
        "from numpy import array, unique\n",
        "\n",
        "Z = array([[0, 0, 1],\n",
        "           [1, 0, 0],\n",
        "           [1, 1, 0],\n",
        "           [1, 1, 1],\n",
        "           [0, 1, 1],\n",
        "           [1, 1, 0]])\n",
        "\n",
        "Zu = unique(Z, axis=0)\n",
        "\n",
        "print('Z:\\n',Z,'\\n')\n",
        "print('Zu:\\n',Zu)"
      ],
      "execution_count": 13,
      "outputs": [
        {
          "output_type": "stream",
          "text": [
            "Z:\n",
            " [[0 0 1]\n",
            " [1 0 0]\n",
            " [1 1 0]\n",
            " [1 1 1]\n",
            " [0 1 1]\n",
            " [1 1 0]] \n",
            "\n",
            "Zu:\n",
            " [[0 0 1]\n",
            " [0 1 1]\n",
            " [1 0 0]\n",
            " [1 1 0]\n",
            " [1 1 1]]\n"
          ],
          "name": "stdout"
        }
      ]
    },
    {
      "metadata": {
        "id": "2h8Dzapaz-mb",
        "colab_type": "text"
      },
      "cell_type": "markdown",
      "source": [
        "## Exe. 4\n",
        "Converter um vetor de inteiros em uma matriz que seja sua representação binária.\n",
        "\n",
        "Exemplo:\n",
        "```\n",
        "I = [0 1 2 3 15 16 32 64 128]\n",
        "B = [[0 0 0 0 0 0 0 0]\n",
        "     [0 0 0 0 0 0 0 1]\n",
        "     [0 0 0 0 0 0 1 0]\n",
        "     [0 0 0 0 0 0 1 1]\n",
        "     [0 0 0 0 1 1 1 1]\n",
        "     [0 0 0 1 0 0 0 0]\n",
        "     [0 0 1 0 0 0 0 0]\n",
        "     [0 1 0 0 0 0 0 0]\n",
        "     [1 0 0 0 0 0 0 0]]\n",
        "```"
      ]
    },
    {
      "metadata": {
        "id": "WsKZ_Dwnz-mb",
        "colab_type": "code",
        "colab": {
          "autoexec": {
            "startup": false,
            "wait_interval": 0
          },
          "base_uri": "https://localhost:8080/",
          "height": 179
        },
        "outputId": "c7153308-ce49-4223-c464-638d48761fdb",
        "executionInfo": {
          "status": "ok",
          "timestamp": 1524013507134,
          "user_tz": 180,
          "elapsed": 587,
          "user": {
            "displayName": "Humberto Neto",
            "photoUrl": "//lh4.googleusercontent.com/-srCUfXbZYXc/AAAAAAAAAAI/AAAAAAAAADA/2W9r0vbMnjA/s50-c-k-no/photo.jpg",
            "userId": "107907802952684013889"
          }
        }
      },
      "cell_type": "code",
      "source": [
        "from numpy import array, amax, vstack, binary_repr\n",
        "\n",
        "def arr2bin(x):\n",
        "  x_max = amax(x)\n",
        "  width = int(x_max).bit_length()\n",
        "  \n",
        "  for i in range(x.size):\n",
        "    if (i == 0):\n",
        "      output = array(list(binary_repr(x[i], width=width)))\n",
        "      \n",
        "    else:\n",
        "      output = vstack([output, array(list(binary_repr(x[i], width=width)))])\n",
        "  \n",
        "  return output.astype(int)\n",
        "\n",
        "I = array([0, 1, 2, 3, 15, 16, 32, 64, 128])\n",
        "\n",
        "I_bin = arr2bin(I)\n",
        "print(I_bin)"
      ],
      "execution_count": 14,
      "outputs": [
        {
          "output_type": "stream",
          "text": [
            "[[0 0 0 0 0 0 0 0]\n",
            " [0 0 0 0 0 0 0 1]\n",
            " [0 0 0 0 0 0 1 0]\n",
            " [0 0 0 0 0 0 1 1]\n",
            " [0 0 0 0 1 1 1 1]\n",
            " [0 0 0 1 0 0 0 0]\n",
            " [0 0 1 0 0 0 0 0]\n",
            " [0 1 0 0 0 0 0 0]\n",
            " [1 0 0 0 0 0 0 0]]\n"
          ],
          "name": "stdout"
        }
      ]
    },
    {
      "metadata": {
        "id": "y3BkJYoaz-mf",
        "colab_type": "text"
      },
      "cell_type": "markdown",
      "source": [
        "## Exe. 5\n",
        "Considerando uma matriz 10x3, extraia linhas com valores desiguais (por exemplo, [2,2,3])\n",
        "\n",
        "Exemplo:\n",
        "```\n",
        "Z = [[2 2 0]\n",
        "     [1 1 3]\n",
        "     [4 3 3]\n",
        "     [1 0 1]\n",
        "     [2 2 2]\n",
        "     [2 3 3]\n",
        "     [1 1 0]\n",
        "     [0 2 0]\n",
        "     [4 4 0]\n",
        "     [4 2 3]]\n",
        "Zd = [[2 2 0]\n",
        "      [1 1 3]\n",
        "      [4 3 3]\n",
        "      [1 0 1]\n",
        "      [2 3 3]\n",
        "      [1 1 0]\n",
        "      [0 2 0]\n",
        "      [4 4 0]\n",
        "      [4 2 3]]\n",
        "```"
      ]
    },
    {
      "metadata": {
        "id": "5Zk_geP2z-mg",
        "colab_type": "code",
        "colab": {
          "autoexec": {
            "startup": false,
            "wait_interval": 0
          },
          "base_uri": "https://localhost:8080/",
          "height": 179
        },
        "outputId": "af1de4e4-9ce4-4b75-9b63-c21ab83b0cb4",
        "executionInfo": {
          "status": "ok",
          "timestamp": 1524013507798,
          "user_tz": 180,
          "elapsed": 610,
          "user": {
            "displayName": "Humberto Neto",
            "photoUrl": "//lh4.googleusercontent.com/-srCUfXbZYXc/AAAAAAAAAAI/AAAAAAAAADA/2W9r0vbMnjA/s50-c-k-no/photo.jpg",
            "userId": "107907802952684013889"
          }
        }
      },
      "cell_type": "code",
      "source": [
        "from numpy import array, unique, vstack\n",
        "\n",
        "def only_diff(matrix):\n",
        "  flag = 0\n",
        "  \n",
        "  for i in matrix:\n",
        "    if (unique(i).size > 1):\n",
        "      if (flag == 0):\n",
        "        output = i\n",
        "        flag +=1\n",
        "      \n",
        "      else:\n",
        "        output = vstack([output, i])\n",
        "      \n",
        "  return output\n",
        "    \n",
        "Z = array([[2, 2, 0],\n",
        "     [1, 1, 3],\n",
        "     [4, 3, 3],\n",
        "     [1, 0, 1],\n",
        "     [2, 2, 2],\n",
        "     [2, 3, 3],\n",
        "     [1, 1, 0],\n",
        "     [0, 2, 0],\n",
        "     [4, 4, 0],\n",
        "     [4, 2, 3]])\n",
        "\n",
        "print(only_diff(Z))"
      ],
      "execution_count": 15,
      "outputs": [
        {
          "output_type": "stream",
          "text": [
            "[[2 2 0]\n",
            " [1 1 3]\n",
            " [4 3 3]\n",
            " [1 0 1]\n",
            " [2 3 3]\n",
            " [1 1 0]\n",
            " [0 2 0]\n",
            " [4 4 0]\n",
            " [4 2 3]]\n"
          ],
          "name": "stdout"
        }
      ]
    }
  ]
}