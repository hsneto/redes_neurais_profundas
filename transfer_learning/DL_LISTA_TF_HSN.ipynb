{
 "cells": [
  {
   "cell_type": "markdown",
   "metadata": {
    "colab_type": "text",
    "id": "J4YdkiT0Llor"
   },
   "source": [
    "# Lista de exercícios de Transfer Learning"
   ]
  },
  {
   "cell_type": "markdown",
   "metadata": {
    "colab_type": "text",
    "id": "Q2kfGAsZLlot"
   },
   "source": [
    "<br/>**Disciplina**: Introdução à redes neurais profundas 2018/1\n",
    "<br/>**Professor**: Jorge Leonid Aching Samatelo"
   ]
  },
  {
   "cell_type": "markdown",
   "metadata": {
    "colab_type": "text",
    "id": "93PvWyFhLlov"
   },
   "source": [
    " **Alunos**:  Pedro Farias e João da Silva"
   ]
  },
  {
   "cell_type": "markdown",
   "metadata": {
    "colab_type": "text",
    "id": "-MeT7vedM0n9"
   },
   "source": [
    "## Indicações <a name=\"indicacoes\"></a>\n",
    "\n",
    "### Considerações\n",
    "* Cada aluno deverá enviar por e-mail a solução dos exercícios propostos, tais soluções deverão ser inseridas neste mesmo arquivo. \n",
    "* Usar  o Google Colab ativando o Python 3 e o uso de GPUs.\n",
    "\n",
    "\n",
    "### Prazo\n",
    "* Envio das soluções: 1/07/2018\n",
    "\n",
    "### Procedimento para o envio das soluções\n",
    "* O arquivo `*.ipynb` com as soluções dos exercícios deve ser enviado ao email <jlasam001@gmail.com> com o assunto: `LISTA_EXERCICIO_TF_2018_1`. \n",
    "* O nome do arquivo `*.ipynb` deve iniciar com o rótulo `DL_LISTA_TF` seguido pelas iniciais do nome do aluno que solucionou os exercícios (por exemplo, o aluno Pedro Farias enviará o arquivo `DL_LISTA_TF-PF_JS.ipynb`)."
   ]
  },
  {
   "cell_type": "markdown",
   "metadata": {
    "colab_type": "text",
    "id": "6rv6fXJsLlo6"
   },
   "source": [
    "## Sobre a lista\n",
    " * A lista dever ser feita utilizando os códigos disponíveis em : [Transfer Learning](https://github.com/clebeson/Deep_Learning/tree/master/Transfer-Learning).\n",
    " \n",
    " * Tais códigos vêm acompanhados de um tutorial de como aplicar transfer learning para o problema de classificação de imagens utilizando a arquitetura da rede VGG16.\n",
    " * O código foi feito pensando na facilidade de apredizado do assunto e de sua adaptação para a aplicação em outros problemas. Sendo assim, aconselho fortemente o entendimento de toda a estrutura do código a fim de facilitar a sua utilização em trabalhos futuros.\n",
    " "
   ]
  },
  {
   "cell_type": "markdown",
   "metadata": {
    "colab_type": "text",
    "id": "Aa2jxsrxLlo8"
   },
   "source": [
    "## Exe. 1\n",
    "Obtenha o melhor resultado de classificação para o CIFAR10 utilizando a VGG16. Para isso, você poderá, além de variar os hiperparâmetros, escolher se utilizará ou não os regularizadores dropout, data augmentation, L1 e L2. \n",
    "*  **Obs.:** O *data augmentation* aumentará consideravelmente o consumo de memória RAM, o que poderá fazer com que o Colab desconecte a sua sessão.\n",
    "\n",
    "Apresente os resultados na forma de uma medida de acurácia e uma matriz de confusão.  Além disso, responda às seguintes perguntas:\n",
    "* ** Quais as suas conclusões ao treinar a rede com e sem uso do bottleneck?**\n",
    "* ** Quais as suas conclusões em relação ao uso do fine tuning e do transfer learning?**\n",
    "* ** A escolha das camadas de VGG16 influenciou o resultado? Por quê?**\n",
    "* ** Qual a influência do hiperparâmetro \"initial learning rate\" na resolução do problema proposto?**\n",
    "\n"
   ]
  },
  {
   "cell_type": "markdown",
   "metadata": {
    "colab_type": "text",
    "id": "ASdYwQK5LlpM"
   },
   "source": [
    "## Exe. 2\n",
    "Usando a melhor configuração da rede obtidada na questão anterior, crie uma função que faça o teste de validação do modelo. \n",
    "Para isso, divida a base de treino em 45.000 imagens para treino e 5.000 para validação. \n",
    "A cada época a validação deverá ser feito, de maneira que ao alcançar um determinado limiar (decida qual o limiar) o treino deverá ser parado ([early stopping](https://page.mi.fu-berlin.de/prechelt/Biblio/stop_tricks1997.pdf)). \n",
    "Após isso, teste o modelo treinado e apresente o resultado na forma de uma acurácia e uma matriz de confusão. \n",
    "\n",
    "* **Quais as suas conclusões quanto ao procedimento utilizado em relação à questão anterior?**\n",
    "* **Quais as vantagens na utilização da base validação, ao invés da base de teste, para o treinamento?**\n"
   ]
  },
  {
   "cell_type": "markdown",
   "metadata": {
    "colab_type": "text",
    "id": "9uL06bHSVeIZ"
   },
   "source": [
    "## Exe. 3\n",
    "Crie uma função que receba as predições retornadas pela função \"test\" e calcule as seguintes [medidas de desempenho](https://machinelearningmastery.com/classification-accuracy-is-not-enough-more-performance-measures-you-can-use/):\n",
    "* Accuracy\n",
    "* Recall\n",
    "* Precision\n",
    "* F1-score\n",
    "\n",
    "Apresente o resultado de tais medidas utilizando a última configuração da rede."
   ]
  },
  {
   "cell_type": "markdown",
   "metadata": {
    "colab_type": "text",
    "id": "J-J41O1eWgkJ"
   },
   "source": [
    "## Exe. 4\n",
    "A técnica do ** *batch normalization* ** ([artigo original](https://arxiv.org/pdf/1502.03167.pdf)) serve principalmente para acelerar o treinamento da rede. Assim, acrescente essa camada de normalização às camadas totalmente conectadas e disculta os resultados.\n",
    "\n",
    "**Obs.:  **\n",
    "* Não utilize a função \"tf.layer.dense\" do tensorflow. A camada deve ser acrescentada às funções já existentes no código disponível. \n",
    "* A ordem das camadas é de fundamental importância para que a técnica seja empregada corretamente. A inserção da camada em uma ordem inexata implicará na incorretude da sua utilização.\n"
   ]
  },
  {
   "cell_type": "markdown",
   "metadata": {
    "colab_type": "text",
    "id": "JNPyO8ZqYwzE"
   },
   "source": [
    "##Exe. 5\n",
    "1. Baixe uma base de dados da sua preferência que represente um problema de classificação de images.\n",
    " * Não pode ser MNIST, Cifar10 ou Cifar100\n",
    " * Atente para o tamanho da base de dados. Lembre-se que bases pequenas, muito provavelmente, implicará em *over fitting*.\n",
    " \n",
    "2. Descreva as principais características da base utilizada.\n",
    " \n",
    "3. Aplique os conhecimento aqui adquiridos para alcançar o melhor resultado de classificação.\n",
    " * Podem ser utilizados quaisquer conhecimentos ou técnicas adquiridas em outros cursos ou mesmo na internet. Desde que seja possível utilizá-las juntamente com os códigos disponibilizados.\n",
    "\n",
    "4. Apresente os resultados na forma das 4 métricas implementadas  anteriormente, ademais de uma matriz de confusão.\n",
    " *  Escolha uma das métricas para avaliar a qualidade do modelo\n",
    "\n",
    "5. Explique qual a influência dos hiperparâmetros na solução apresentada.\n",
    "\n",
    "6. Discuta os resultados apresentados na matriz de confusão, de maneira que seja possível identificar quais as classes que mais influenciaram o resultado, positiva e negativamente.\n",
    "\n",
    "7. Compare o seu resultado com aqueles já obtidos em outros trabalhos.\n",
    " \n",
    "  * Se a base de dados for própria, e não tiver nenhum outro resultado anterior, não precisa fazer este item.\n",
    "  \n",
    "8. Sugira possíveis melhorias que possam ser feitas para melhorar futuramente os resultados.\n",
    "\n",
    "\n",
    "\n",
    "\n",
    "\n",
    "\n"
   ]
  },
  {
   "cell_type": "code",
   "execution_count": 0,
   "metadata": {
    "colab": {
     "autoexec": {
      "startup": false,
      "wait_interval": 0
     }
    },
    "colab_type": "code",
    "id": "TLIMr6DKhviR"
   },
   "outputs": [],
   "source": []
  }
 ],
 "metadata": {
  "accelerator": "GPU",
  "colab": {
   "collapsed_sections": [],
   "default_view": {},
   "name": "DL_LISTA_TF_HSN.ipynb",
   "provenance": [],
   "version": "0.3.2",
   "views": {}
  },
  "kernelspec": {
   "display_name": "Python 3",
   "language": "python",
   "name": "python3"
  },
  "language_info": {
   "codemirror_mode": {
    "name": "ipython",
    "version": 3
   },
   "file_extension": ".py",
   "mimetype": "text/x-python",
   "name": "python",
   "nbconvert_exporter": "python",
   "pygments_lexer": "ipython3",
   "version": "3.6.3"
  }
 },
 "nbformat": 4,
 "nbformat_minor": 1
}
